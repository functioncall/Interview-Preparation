{
 "cells": [
  {
   "cell_type": "markdown",
   "metadata": {},
   "source": [
    "### Working with Strings in Python 3.6"
   ]
  },
  {
   "cell_type": "code",
   "execution_count": 1,
   "metadata": {},
   "outputs": [],
   "source": [
    "message = 'Hell with this world'"
   ]
  },
  {
   "cell_type": "markdown",
   "metadata": {},
   "source": [
    "When using list sling, the first index is inclusive and the second index is not."
   ]
  },
  {
   "cell_type": "code",
   "execution_count": 11,
   "metadata": {},
   "outputs": [
    {
     "name": "stdout",
     "output_type": "stream",
     "text": [
      "Hell\n",
      "Hell\n",
      "world\n",
      "world\n"
     ]
    }
   ],
   "source": [
    "print(message[0:4])\n",
    "print(message[:4]) # does the same thing as above\n",
    "print(message[15:len(message)])\n",
    "print(message[15:]) # does the same thing as above"
   ]
  },
  {
   "cell_type": "code",
   "execution_count": 14,
   "metadata": {},
   "outputs": [
    {
     "name": "stdout",
     "output_type": "stream",
     "text": [
      "hell with this world\n",
      "HELL WITH THIS WORLD\n"
     ]
    }
   ],
   "source": [
    "print(message.lower())\n",
    "print(message.upper())"
   ]
  },
  {
   "cell_type": "code",
   "execution_count": 16,
   "metadata": {},
   "outputs": [
    {
     "name": "stdout",
     "output_type": "stream",
     "text": [
      "1\n",
      "3\n"
     ]
    }
   ],
   "source": [
    "print(message.count(\"Hell\"))\n",
    "print(message.count(\"l\"))"
   ]
  },
  {
   "cell_type": "code",
   "execution_count": 18,
   "metadata": {},
   "outputs": [
    {
     "name": "stdout",
     "output_type": "stream",
     "text": [
      "10\n",
      "-1\n"
     ]
    }
   ],
   "source": [
    "print(message.find(\"this\"))\n",
    "print(message.find(\"thing\"))"
   ]
  },
  {
   "cell_type": "code",
   "execution_count": 22,
   "metadata": {},
   "outputs": [
    {
     "name": "stdout",
     "output_type": "stream",
     "text": [
      "Hell with this fucking world\n",
      "Hell with this world\n"
     ]
    }
   ],
   "source": [
    "print(message.replace(\"world\", \"fucking world\"))\n",
    "print(message) # original variable is not changed since it is replacing in place"
   ]
  },
  {
   "cell_type": "code",
   "execution_count": 26,
   "metadata": {},
   "outputs": [
    {
     "name": "stdout",
     "output_type": "stream",
     "text": [
      "Hello, Mike. Welcome!\n",
      "Hello, MIKE. Welcome!\n"
     ]
    }
   ],
   "source": [
    "greeting = \"Hello\"\n",
    "name = \"Mike\"\n",
    "\n",
    "# Using string formatting\n",
    "new_message = '{}, {}. Welcome!'.format(greeting, name)\n",
    "print(new_message)\n",
    "\n",
    "# Using f string\n",
    "new_message_1 = f'{greeting}, {name.upper()}. Welcome!'\n",
    "print(new_message_1)"
   ]
  },
  {
   "cell_type": "code",
   "execution_count": 27,
   "metadata": {},
   "outputs": [
    {
     "name": "stdout",
     "output_type": "stream",
     "text": [
      "['__add__', '__class__', '__contains__', '__delattr__', '__dir__', '__doc__', '__eq__', '__format__', '__ge__', '__getattribute__', '__getitem__', '__getnewargs__', '__gt__', '__hash__', '__init__', '__init_subclass__', '__iter__', '__le__', '__len__', '__lt__', '__mod__', '__mul__', '__ne__', '__new__', '__reduce__', '__reduce_ex__', '__repr__', '__rmod__', '__rmul__', '__setattr__', '__sizeof__', '__str__', '__subclasshook__', 'capitalize', 'casefold', 'center', 'count', 'encode', 'endswith', 'expandtabs', 'find', 'format', 'format_map', 'index', 'isalnum', 'isalpha', 'isascii', 'isdecimal', 'isdigit', 'isidentifier', 'islower', 'isnumeric', 'isprintable', 'isspace', 'istitle', 'isupper', 'join', 'ljust', 'lower', 'lstrip', 'maketrans', 'partition', 'replace', 'rfind', 'rindex', 'rjust', 'rpartition', 'rsplit', 'rstrip', 'split', 'splitlines', 'startswith', 'strip', 'swapcase', 'title', 'translate', 'upper', 'zfill']\n"
     ]
    }
   ],
   "source": [
    "print(dir(name))"
   ]
  },
  {
   "cell_type": "code",
   "execution_count": 31,
   "metadata": {},
   "outputs": [
    {
     "name": "stdout",
     "output_type": "stream",
     "text": [
      "Help on method_descriptor:\n",
      "\n",
      "lower(self, /)\n",
      "    Return a copy of the string converted to lowercase.\n",
      "\n",
      "None\n"
     ]
    }
   ],
   "source": [
    "# print(help(str))\n",
    "print(help(str.lower))"
   ]
  },
  {
   "cell_type": "markdown",
   "metadata": {},
   "source": [
    "### Working with Numbers in Python 3.6"
   ]
  },
  {
   "cell_type": "code",
   "execution_count": 36,
   "metadata": {},
   "outputs": [
    {
     "name": "stdout",
     "output_type": "stream",
     "text": [
      "Addition operator:  5\n",
      "Subtraction operator:  1\n",
      "Multiplication operator:  6\n",
      "Division operator:  2.0\n",
      "Floor Division operator:  2\n",
      "Exponent operator:  9\n",
      "Modulus operator:  1\n"
     ]
    }
   ],
   "source": [
    "print(\"Addition operator: \", 3 + 2)\n",
    "print(\"Subtraction operator: \", 3 - 2)\n",
    "print(\"Multiplication operator: \", 3 * 2)\n",
    "print(\"Division operator: \", 4 / 2)\n",
    "print(\"Floor Division operator: \", 4 // 2)\n",
    "print(\"Exponent operator: \", 3 ** 2)\n",
    "print(\"Modulus operator: \", 3 % 2)"
   ]
  },
  {
   "cell_type": "code",
   "execution_count": 38,
   "metadata": {},
   "outputs": [
    {
     "name": "stdout",
     "output_type": "stream",
     "text": [
      "7\n",
      "9\n"
     ]
    }
   ],
   "source": [
    "print(3 * 2 + 1)\n",
    "print(3 * (2 + 1))"
   ]
  },
  {
   "cell_type": "code",
   "execution_count": 39,
   "metadata": {},
   "outputs": [
    {
     "name": "stdout",
     "output_type": "stream",
     "text": [
      "3\n"
     ]
    }
   ],
   "source": [
    "print(abs(-3))"
   ]
  },
  {
   "cell_type": "code",
   "execution_count": 43,
   "metadata": {},
   "outputs": [
    {
     "name": "stdout",
     "output_type": "stream",
     "text": [
      "4\n",
      "3.8\n"
     ]
    }
   ],
   "source": [
    "print(round(3.75))\n",
    "print(round(3.75, 1))"
   ]
  },
  {
   "cell_type": "markdown",
   "metadata": {},
   "source": [
    "### Working with List, Tuples, and Sets in Python 3.6"
   ]
  },
  {
   "cell_type": "code",
   "execution_count": 69,
   "metadata": {},
   "outputs": [
    {
     "name": "stdout",
     "output_type": "stream",
     "text": [
      "5\n",
      "A\n",
      "C\n",
      "E\n",
      "['A', 'B', 'C']\n"
     ]
    }
   ],
   "source": [
    "letter_list = [\"A\", \"B\", \"C\", \"D\", \"E\"]\n",
    "print(len(letter_list))\n",
    "print(letter_list[0]) # getting the first item\n",
    "print(letter_list[2]) # getting last item\n",
    "print(letter_list[-1]) # getting last item by negative index\n",
    "print(letter_list[:3])\n"
   ]
  },
  {
   "cell_type": "code",
   "execution_count": 70,
   "metadata": {},
   "outputs": [
    {
     "name": "stdout",
     "output_type": "stream",
     "text": [
      "['A', 'B', 'C', 'D', 'E', 'F']\n"
     ]
    }
   ],
   "source": [
    "letter_list.append(\"F\")\n",
    "print(letter_list)"
   ]
  },
  {
   "cell_type": "code",
   "execution_count": 71,
   "metadata": {},
   "outputs": [
    {
     "name": "stdout",
     "output_type": "stream",
     "text": [
      "['A', 'G', 'B', 'C', 'D', 'E', 'F']\n"
     ]
    }
   ],
   "source": [
    "letter_list.insert(1, \"G\")\n",
    "print(letter_list)"
   ]
  },
  {
   "cell_type": "code",
   "execution_count": 72,
   "metadata": {},
   "outputs": [
    {
     "name": "stdout",
     "output_type": "stream",
     "text": [
      "['A', 'G', 'B', 'C', 'D', 'E', 'F', 'X', 'Y', 'Z']\n"
     ]
    }
   ],
   "source": [
    "letter_list_2 = [\"X\", \"Y\", \"Z\"]\n",
    "letter_list.extend(letter_list_2)\n",
    "print(letter_list)"
   ]
  },
  {
   "cell_type": "code",
   "execution_count": 73,
   "metadata": {},
   "outputs": [
    {
     "name": "stdout",
     "output_type": "stream",
     "text": [
      "['A', 'B', 'C', 'D', 'E', 'F', 'X', 'Y', 'Z']\n"
     ]
    }
   ],
   "source": [
    "letter_list.remove('G')\n",
    "print(letter_list)"
   ]
  },
  {
   "cell_type": "code",
   "execution_count": 74,
   "metadata": {},
   "outputs": [
    {
     "name": "stdout",
     "output_type": "stream",
     "text": [
      "popped value:  Z\n",
      "['A', 'B', 'C', 'D', 'E', 'F', 'X', 'Y']\n"
     ]
    }
   ],
   "source": [
    "popped = letter_list.pop() # remove last element\n",
    "print(\"popped value: \", popped)\n",
    "print(letter_list)"
   ]
  },
  {
   "cell_type": "code",
   "execution_count": 75,
   "metadata": {},
   "outputs": [
    {
     "name": "stdout",
     "output_type": "stream",
     "text": [
      "['Y', 'X', 'F', 'E', 'D', 'C', 'B', 'A']\n"
     ]
    }
   ],
   "source": [
    "# print list in reverse\n",
    "letter_list.reverse()\n",
    "print(letter_list)"
   ]
  },
  {
   "cell_type": "code",
   "execution_count": 76,
   "metadata": {},
   "outputs": [],
   "source": [
    "# Sort list in place using sort() method. Variable assiging not needed"
   ]
  },
  {
   "cell_type": "code",
   "execution_count": 78,
   "metadata": {},
   "outputs": [
    {
     "name": "stdout",
     "output_type": "stream",
     "text": [
      "['A', 'B', 'C', 'D', 'E', 'F', 'X', 'Y']\n",
      "['Y', 'X', 'F', 'E', 'D', 'C', 'B', 'A']\n"
     ]
    }
   ],
   "source": [
    "letter_list.sort()\n",
    "print(letter_list)\n",
    "\n",
    "# sort in reverse\n",
    "letter_list.sort(reverse=True)\n",
    "print(letter_list)"
   ]
  },
  {
   "cell_type": "code",
   "execution_count": 79,
   "metadata": {},
   "outputs": [],
   "source": [
    "# Sort list without altering original list using sorted() function"
   ]
  },
  {
   "cell_type": "code",
   "execution_count": 80,
   "metadata": {},
   "outputs": [
    {
     "name": "stdout",
     "output_type": "stream",
     "text": [
      "[2, 3, 1, 7, 3, 8]\n",
      "[1, 2, 3, 3, 7, 8]\n"
     ]
    }
   ],
   "source": [
    "example_list = [2,3,1,7,3,8]\n",
    "sorted_list = sorted(example_list)\n",
    "print(example_list)\n",
    "print(sorted_list)"
   ]
  },
  {
   "cell_type": "code",
   "execution_count": 82,
   "metadata": {},
   "outputs": [
    {
     "name": "stdout",
     "output_type": "stream",
     "text": [
      "1\n",
      "8\n",
      "24\n"
     ]
    }
   ],
   "source": [
    "# Min, Max and Sum function\n",
    "example_list = [2,3,1,7,3,8]\n",
    "print(min(example_list))\n",
    "print(max(example_list))\n",
    "print(sum(example_list))"
   ]
  },
  {
   "cell_type": "code",
   "execution_count": 85,
   "metadata": {},
   "outputs": [
    {
     "name": "stdout",
     "output_type": "stream",
     "text": [
      "['Y', 'X', 'F', 'E', 'D', 'C', 'B', 'A']\n",
      "1\n",
      "True\n",
      "False\n"
     ]
    }
   ],
   "source": [
    "# find index of a value in list\n",
    "print(letter_list)\n",
    "print(letter_list.index(\"X\"))\n",
    "\n",
    "print(\"F\" in letter_list)\n",
    "print(\"P\" in letter_list)"
   ]
  },
  {
   "cell_type": "code",
   "execution_count": 88,
   "metadata": {},
   "outputs": [
    {
     "name": "stdout",
     "output_type": "stream",
     "text": [
      "Y\n",
      "X\n",
      "F\n",
      "E\n",
      "D\n",
      "C\n",
      "B\n",
      "A\n"
     ]
    }
   ],
   "source": [
    "for letter in letter_list:\n",
    "    print(letter)"
   ]
  },
  {
   "cell_type": "code",
   "execution_count": 90,
   "metadata": {},
   "outputs": [
    {
     "name": "stdout",
     "output_type": "stream",
     "text": [
      "0 Y\n",
      "1 X\n",
      "2 F\n",
      "3 E\n",
      "4 D\n",
      "5 C\n",
      "6 B\n",
      "7 A\n"
     ]
    }
   ],
   "source": [
    "# iterate and get index too\n",
    "for index, letter in enumerate(letter_list):\n",
    "    print(index, letter)"
   ]
  },
  {
   "cell_type": "code",
   "execution_count": 92,
   "metadata": {},
   "outputs": [
    {
     "name": "stdout",
     "output_type": "stream",
     "text": [
      "[4, 2, 3]\n",
      "[4, 2, 3]\n"
     ]
    }
   ],
   "source": [
    "# Mutable, list are mutable objects in python\n",
    "list_1 = [1,2,3]\n",
    "list_2 = list_1\n",
    "\n",
    "list_1[0] = 4\n",
    "print(list_1)\n",
    "print(list_2)"
   ]
  },
  {
   "cell_type": "code",
   "execution_count": 94,
   "metadata": {},
   "outputs": [
    {
     "ename": "TypeError",
     "evalue": "'tuple' object does not support item assignment",
     "output_type": "error",
     "traceback": [
      "\u001b[0;31m---------------------------------------------------------------------------\u001b[0m",
      "\u001b[0;31mTypeError\u001b[0m                                 Traceback (most recent call last)",
      "\u001b[0;32m<ipython-input-94-4075416cd46c>\u001b[0m in \u001b[0;36m<module>\u001b[0;34m\u001b[0m\n\u001b[1;32m      4\u001b[0m \u001b[0mtuple_2\u001b[0m \u001b[0;34m=\u001b[0m \u001b[0mtuple_1\u001b[0m\u001b[0;34m\u001b[0m\u001b[0;34m\u001b[0m\u001b[0m\n\u001b[1;32m      5\u001b[0m \u001b[0;34m\u001b[0m\u001b[0m\n\u001b[0;32m----> 6\u001b[0;31m \u001b[0mtuple_1\u001b[0m\u001b[0;34m[\u001b[0m\u001b[0;36m0\u001b[0m\u001b[0;34m]\u001b[0m \u001b[0;34m=\u001b[0m \u001b[0;36m4\u001b[0m\u001b[0;34m\u001b[0m\u001b[0;34m\u001b[0m\u001b[0m\n\u001b[0m\u001b[1;32m      7\u001b[0m \u001b[0;34m\u001b[0m\u001b[0m\n\u001b[1;32m      8\u001b[0m \u001b[0mprint\u001b[0m\u001b[0;34m(\u001b[0m\u001b[0mtuple_1\u001b[0m\u001b[0;34m)\u001b[0m\u001b[0;34m\u001b[0m\u001b[0;34m\u001b[0m\u001b[0m\n",
      "\u001b[0;31mTypeError\u001b[0m: 'tuple' object does not support item assignment"
     ]
    }
   ],
   "source": [
    "# Immutable objects\n",
    "# Tuple\n",
    "tuple_1 = (1,2,3)\n",
    "tuple_2 = tuple_1\n",
    "\n",
    "tuple_1[0] = 4\n",
    "\n",
    "print(tuple_1)\n",
    "print(tuple_2)"
   ]
  },
  {
   "cell_type": "code",
   "execution_count": 98,
   "metadata": {},
   "outputs": [
    {
     "name": "stdout",
     "output_type": "stream",
     "text": [
      "{'Math', 'CS', 'Art'}\n",
      "{'Chemistry', 'Physics', 'Math'}\n",
      "intersection: {'Math'}\n",
      "difference {'CS', 'Art'}\n",
      "union {'Chemistry', 'Art', 'Math', 'Physics', 'CS'}\n"
     ]
    }
   ],
   "source": [
    "# Immutable objects\n",
    "# Sets\n",
    "\n",
    "course_set_1 = {\"Art\", \"Math\", \"CS\", \"Math\"}\n",
    "course_set_2 = {\"Physics\", \"Chemistry\", \"Math\"}\n",
    "print(course_set_1) # set automatically removes duplicates\n",
    "print(course_set_2)\n",
    "\n",
    "# set operators\n",
    "print(\"intersection:\", course_set_1.intersection(course_set_2))\n",
    "print(\"difference\", course_set_1.difference(course_set_2))\n",
    "print(\"union\", course_set_1.union(course_set_2))"
   ]
  },
  {
   "cell_type": "code",
   "execution_count": 99,
   "metadata": {},
   "outputs": [],
   "source": [
    "# Empty list\n",
    "l = []\n",
    "l = list()\n",
    "\n",
    "# Empty tuple\n",
    "t = ()\n",
    "t = tuple()\n",
    "\n",
    "# Empty set\n",
    "s = set()\n",
    "\n",
    "# Empty dictionary \n",
    "d = {}\n",
    "d = dict()"
   ]
  },
  {
   "cell_type": "markdown",
   "metadata": {},
   "source": [
    "### Dictionaries - Working with Key-Value Pairs"
   ]
  },
  {
   "cell_type": "code",
   "execution_count": 101,
   "metadata": {},
   "outputs": [],
   "source": [
    "student = {\"name\": \"Mike\", \"age\": 21, \"courses\": [\"Maths\", \"CS\"]}"
   ]
  },
  {
   "cell_type": "code",
   "execution_count": 102,
   "metadata": {},
   "outputs": [
    {
     "name": "stdout",
     "output_type": "stream",
     "text": [
      "Mike\n"
     ]
    }
   ],
   "source": [
    "print(student[\"name\"])"
   ]
  },
  {
   "cell_type": "code",
   "execution_count": 103,
   "metadata": {},
   "outputs": [
    {
     "ename": "KeyError",
     "evalue": "'phone'",
     "output_type": "error",
     "traceback": [
      "\u001b[0;31m---------------------------------------------------------------------------\u001b[0m",
      "\u001b[0;31mKeyError\u001b[0m                                  Traceback (most recent call last)",
      "\u001b[0;32m<ipython-input-103-ad1adc43b798>\u001b[0m in \u001b[0;36m<module>\u001b[0;34m\u001b[0m\n\u001b[1;32m      1\u001b[0m \u001b[0;31m# getting key which doesn't exists\u001b[0m\u001b[0;34m\u001b[0m\u001b[0;34m\u001b[0m\u001b[0;34m\u001b[0m\u001b[0m\n\u001b[0;32m----> 2\u001b[0;31m \u001b[0mprint\u001b[0m\u001b[0;34m(\u001b[0m\u001b[0mstudent\u001b[0m\u001b[0;34m[\u001b[0m\u001b[0;34m\"phone\"\u001b[0m\u001b[0;34m]\u001b[0m\u001b[0;34m)\u001b[0m\u001b[0;34m\u001b[0m\u001b[0;34m\u001b[0m\u001b[0m\n\u001b[0m",
      "\u001b[0;31mKeyError\u001b[0m: 'phone'"
     ]
    }
   ],
   "source": [
    "# getting key which doesn't exists\n",
    "print(student[\"phone\"])"
   ]
  },
  {
   "cell_type": "code",
   "execution_count": 105,
   "metadata": {},
   "outputs": [
    {
     "name": "stdout",
     "output_type": "stream",
     "text": [
      "None\n",
      "Key not found\n"
     ]
    }
   ],
   "source": [
    "# getting key which doesn't exists without error\n",
    "print(student.get(\"Phone\"))\n",
    "print(student.get(\"Phone\", \"Key not found\")) # Add error message"
   ]
  },
  {
   "cell_type": "code",
   "execution_count": 106,
   "metadata": {},
   "outputs": [
    {
     "name": "stdout",
     "output_type": "stream",
     "text": [
      "{'name': 'Mike', 'age': 21, 'courses': ['Maths', 'CS'], 'phone': 123987456}\n"
     ]
    }
   ],
   "source": [
    "# setting new value\n",
    "student[\"phone\"] = 123987456\n",
    "print(student)"
   ]
  },
  {
   "cell_type": "code",
   "execution_count": 107,
   "metadata": {},
   "outputs": [
    {
     "name": "stdout",
     "output_type": "stream",
     "text": [
      "{'name': 'Mike', 'age': 21, 'courses': ['Maths', 'CS'], 'phone': 99999999}\n"
     ]
    }
   ],
   "source": [
    "# update value\n",
    "student[\"phone\"] = 99999999\n",
    "print(student)"
   ]
  },
  {
   "cell_type": "code",
   "execution_count": 109,
   "metadata": {},
   "outputs": [
    {
     "name": "stdout",
     "output_type": "stream",
     "text": [
      "{'name': 'Micheal', 'age': 26, 'courses': ['Maths', 'CS'], 'phone': 111111111}\n"
     ]
    }
   ],
   "source": [
    "# update value using update method\n",
    "student.update({'name': 'Micheal', 'age': 26, 'phone': 111111111})\n",
    "print(student)"
   ]
  },
  {
   "cell_type": "code",
   "execution_count": 110,
   "metadata": {},
   "outputs": [
    {
     "name": "stdout",
     "output_type": "stream",
     "text": [
      "{'name': 'Micheal', 'courses': ['Maths', 'CS'], 'phone': 111111111}\n"
     ]
    }
   ],
   "source": [
    "# delete a key value pair\n",
    "del student[\"age\"]\n",
    "print(student)"
   ]
  },
  {
   "cell_type": "code",
   "execution_count": 112,
   "metadata": {},
   "outputs": [
    {
     "name": "stdout",
     "output_type": "stream",
     "text": [
      "111111111\n",
      "{'name': 'Micheal', 'courses': ['Maths', 'CS']}\n"
     ]
    }
   ],
   "source": [
    "# delete a key value pair and grab the value using pop method\n",
    "deleted_phone = student.pop(\"phone\")\n",
    "print(deleted_phone)\n",
    "print(student)"
   ]
  },
  {
   "cell_type": "code",
   "execution_count": 115,
   "metadata": {},
   "outputs": [
    {
     "name": "stdout",
     "output_type": "stream",
     "text": [
      "2\n",
      "dict_keys(['name', 'courses'])\n",
      "dict_values(['Micheal', ['Maths', 'CS']])\n",
      "dict_items([('name', 'Micheal'), ('courses', ['Maths', 'CS'])])\n"
     ]
    }
   ],
   "source": [
    "print(len(student)) # length of keys in the dict\n",
    "print(student.keys())\n",
    "print(student.values())\n",
    "print(student.items())"
   ]
  },
  {
   "cell_type": "code",
   "execution_count": 116,
   "metadata": {},
   "outputs": [
    {
     "name": "stdout",
     "output_type": "stream",
     "text": [
      "name Micheal\n",
      "courses ['Maths', 'CS']\n"
     ]
    }
   ],
   "source": [
    "# loop through a dict\n",
    "for key, value in student.items():\n",
    "    print(key, value)"
   ]
  },
  {
   "cell_type": "markdown",
   "metadata": {},
   "source": [
    "### Conditionals and Booleans - If, Else, and Elif Statements"
   ]
  },
  {
   "cell_type": "code",
   "execution_count": 126,
   "metadata": {},
   "outputs": [
    {
     "name": "stdout",
     "output_type": "stream",
     "text": [
      "True\n",
      "id of a: 4450950536 and id of b: 4450657480\n",
      "False\n"
     ]
    }
   ],
   "source": [
    "a = [1,2,3]\n",
    "b = [1,2,3]\n",
    "\n",
    "print(a == b)\n",
    "print(f\"id of a: {id(b)} and id of b: {id(a)}\")\n",
    "print(a is b)"
   ]
  },
  {
   "cell_type": "code",
   "execution_count": 129,
   "metadata": {},
   "outputs": [
    {
     "name": "stdout",
     "output_type": "stream",
     "text": [
      "Evaluated to False\n"
     ]
    }
   ],
   "source": [
    "# False evaluation\n",
    "\n",
    "# False value\n",
    "# False\n",
    "# None\n",
    "# Zero of any numeric type\n",
    "# Any empty sequence, eg: '', [], ()\n",
    "# or any empty mapping {}\n",
    "\n",
    "condition =  False\n",
    "\n",
    "if condition:\n",
    "    print(\"Evaluated to True\")\n",
    "else:\n",
    "    print(\"Evaluated to False\")"
   ]
  },
  {
   "cell_type": "markdown",
   "metadata": {},
   "source": [
    "### Functions"
   ]
  },
  {
   "cell_type": "code",
   "execution_count": 132,
   "metadata": {},
   "outputs": [
    {
     "name": "stdout",
     "output_type": "stream",
     "text": [
      "HELLO FUNCTION!\n"
     ]
    }
   ],
   "source": [
    "def hello_func():\n",
    "    return \"Hello function!\"\n",
    "\n",
    "print(hello_func().upper())"
   ]
  },
  {
   "cell_type": "code",
   "execution_count": 136,
   "metadata": {},
   "outputs": [
    {
     "name": "stdout",
     "output_type": "stream",
     "text": [
      "Hi, You\n",
      "Hi, Shekhar\n"
     ]
    }
   ],
   "source": [
    "def hello_function(greeting, name=\"You\"):\n",
    "    return \"{}, {}\".format(greeting, name)\n",
    "\n",
    "print(hello_function('Hi'))\n",
    "print(hello_function('Hi', name=\"Shekhar\"))"
   ]
  },
  {
   "cell_type": "code",
   "execution_count": 140,
   "metadata": {},
   "outputs": [
    {
     "name": "stdout",
     "output_type": "stream",
     "text": [
      "('Math', 'CS') {'name': 'Mike', 'age': 21}\n",
      "('Math', 'CS') {'name': 'Mike', 'age': 21}\n"
     ]
    }
   ],
   "source": [
    "def student_info(*args, **kwargs):\n",
    "    print(args, kwargs)\n",
    "    \n",
    "student_info(\"Math\", \"CS\", name=\"Mike\", age=21)\n",
    "\n",
    "courses = [\"Math\", \"CS\"]\n",
    "info = {\"name\": \"Mike\", \"age\": 21}\n",
    "\n",
    "student_info(*courses, **info)"
   ]
  },
  {
   "cell_type": "markdown",
   "metadata": {},
   "source": [
    "### Moduel Imports"
   ]
  },
  {
   "cell_type": "code",
   "execution_count": 141,
   "metadata": {},
   "outputs": [
    {
     "name": "stdout",
     "output_type": "stream",
     "text": [
      "['/Users/shekhar/Documents/Notebooks', '/anaconda3/lib/python37.zip', '/anaconda3/lib/python3.7', '/anaconda3/lib/python3.7/lib-dynload', '', '/Users/shekhar/.local/lib/python3.7/site-packages', '/anaconda3/lib/python3.7/site-packages', '/anaconda3/lib/python3.7/site-packages/aeosa', '/anaconda3/lib/python3.7/site-packages/IPython/extensions', '/Users/shekhar/.ipython']\n"
     ]
    }
   ],
   "source": [
    "import sys\n",
    "\n",
    "print(sys.path)"
   ]
  },
  {
   "cell_type": "code",
   "execution_count": 146,
   "metadata": {},
   "outputs": [
    {
     "name": "stdout",
     "output_type": "stream",
     "text": [
      "['Y', 'X', 'F', 'E', 'D', 'C', 'B', 'A']\n",
      "E\n"
     ]
    }
   ],
   "source": [
    "import random\n",
    "\n",
    "print(letter_list)\n",
    "print(random.choice(letter_list))"
   ]
  },
  {
   "cell_type": "code",
   "execution_count": 155,
   "metadata": {},
   "outputs": [
    {
     "name": "stdout",
     "output_type": "stream",
     "text": [
      "2019-09-09\n",
      "True\n"
     ]
    }
   ],
   "source": [
    "import datetime\n",
    "import calendar\n",
    "\n",
    "today = datetime.date.today()\n",
    "print(today)\n",
    "\n",
    "print(calendar.isleap(2020))"
   ]
  },
  {
   "cell_type": "code",
   "execution_count": 159,
   "metadata": {},
   "outputs": [
    {
     "name": "stdout",
     "output_type": "stream",
     "text": [
      "/Users/shekhar/Documents/Notebooks\n",
      "/anaconda3/lib/python3.7/os.py\n"
     ]
    }
   ],
   "source": [
    "import os\n",
    "\n",
    "print(os.getcwd())\n",
    "print(os.__file__) # prints the python module path\n"
   ]
  },
  {
   "cell_type": "markdown",
   "metadata": {},
   "source": [
    "### List slicing"
   ]
  },
  {
   "cell_type": "code",
   "execution_count": 163,
   "metadata": {},
   "outputs": [
    {
     "name": "stdout",
     "output_type": "stream",
     "text": [
      "[9, 8, 7, 6, 5, 4, 3, 2, 1, 0]\n",
      "http://coreyms.com\n",
      "coreyms\n"
     ]
    }
   ],
   "source": [
    "my_list = [0, 1, 2, 3, 4, 5, 6, 7, 8, 9]\n",
    "#          0, 1, 2, 3, 4, 5, 6, 7, 8, 9\n",
    "#        -10,-9,-8,-7,-6,-5,-4,-3,-2,-1\n",
    "\n",
    "# list[start:end:step]\n",
    "\n",
    "print(my_list[::-1])\n",
    "\n",
    "\n",
    "sample_url = 'http://coreyms.com'\n",
    "print(sample_url)\n",
    "\n",
    "# Reverse the url\n",
    "# print sample_url[::-1]\n",
    "\n",
    "# # Get the top level domain\n",
    "# print sample_url[-4:]\n",
    "\n",
    "# # Print the url without the http://\n",
    "# print sample_url[7:]\n",
    "\n",
    "# # Print the url without the http:// or the top level domain\n",
    "print(sample_url[7:-4])"
   ]
  },
  {
   "cell_type": "markdown",
   "metadata": {},
   "source": [
    "### List comprehension"
   ]
  },
  {
   "cell_type": "code",
   "execution_count": 180,
   "metadata": {},
   "outputs": [
    {
     "name": "stdout",
     "output_type": "stream",
     "text": [
      "[1, 2, 3, 4, 5, 6, 7, 8, 9]\n",
      "[1, 4, 9, 16, 25, 36, 49, 64, 81]\n",
      "[2, 4, 6, 8]\n",
      "[2, 4, 6, 8]\n",
      "[('a', 0), ('a', 1), ('a', 2), ('a', 3), ('b', 0), ('b', 1), ('b', 2), ('b', 3), ('c', 0), ('c', 1), ('c', 2), ('c', 3), ('d', 0), ('d', 1), ('d', 2), ('d', 3)]\n"
     ]
    }
   ],
   "source": [
    "nums = [1,2,3,4,5,6,7,8,9]\n",
    "\n",
    "my_nums = [n for n in nums]\n",
    "print(my_nums)\n",
    "\n",
    "my_nums_1 = [n*n for n in nums]\n",
    "print(my_nums_1)\n",
    "\n",
    "filter_nums = [n for n in nums if n%2 ==0]\n",
    "print(filter_nums)\n",
    "\n",
    "lambda_filter = filter(lambda n: n%2 ==0, nums)\n",
    "print(list(lambda_filter))\n",
    "\n",
    "my_list = ['a', 'b', 'c', 'd']\n",
    "my_list_1 = [(letter,num) for letter in my_list for num in range(4)]\n",
    "print(my_list_1)"
   ]
  },
  {
   "cell_type": "markdown",
   "metadata": {},
   "source": [
    "### Dictionary and Set comprehension"
   ]
  },
  {
   "cell_type": "code",
   "execution_count": 188,
   "metadata": {},
   "outputs": [
    {
     "name": "stdout",
     "output_type": "stream",
     "text": [
      "[('Superman', 'Clark Kent'), ('Batman', 'Bruce Wayne'), ('Spider Man', 'Peter Parker')]\n",
      "{'Clark Kent': 'Superman', 'Bruce Wayne': 'Batman', 'Peter Parker': 'Spider Man'}\n",
      "{'Clark Kent': 'Superman', 'Bruce Wayne': 'Batman'}\n",
      "{1, 2, 3, 4, 5, 6, 7, 8, 9}\n"
     ]
    }
   ],
   "source": [
    "superheroes = [\"Superman\", \"Batman\", \"Spider Man\"]\n",
    "names = [\"Clark Kent\", \"Bruce Wayne\", \"Peter Parker\"]\n",
    "\n",
    "result = zip(superheroes, names)\n",
    "print(list(result))\n",
    "\n",
    "# If I want the result to a dictionary key value pair\n",
    "my_dict = {}\n",
    "\n",
    "for name, superhero in zip(names, superheroes):\n",
    "    my_dict[name] = superhero\n",
    "print(my_dict)\n",
    "\n",
    "# using comprehension\n",
    "my_dict_2 = {name:hero for name, hero in zip(names, superheroes) if name != 'Peter Parker'}\n",
    "print(my_dict_2)\n",
    "\n",
    "# Set comprehension\n",
    "my_num_list = [1,1,2,2,3,3,3,4,5,5,6,6,6,6,7,7,7,8,9,9]\n",
    "\n",
    "my_set = {n for n in my_num_list}\n",
    "print(my_set)\n"
   ]
  },
  {
   "cell_type": "code",
   "execution_count": 190,
   "metadata": {},
   "outputs": [
    {
     "name": "stdout",
     "output_type": "stream",
     "text": [
      "1\n",
      "4\n",
      "9\n",
      "16\n",
      "25\n",
      "36\n",
      "49\n",
      "64\n",
      "81\n",
      "1\n",
      "4\n",
      "9\n",
      "16\n",
      "25\n",
      "36\n",
      "49\n",
      "64\n",
      "81\n"
     ]
    }
   ],
   "source": [
    "# Generator expression\n",
    "\n",
    "my_num_list_1 = [1,2,3,4,5,6,7,8,9]\n",
    "\n",
    "def generator_func(nums):\n",
    "    for n in nums:\n",
    "        yield n*n\n",
    "        \n",
    "my_generator = generator_func(my_num_list_1)\n",
    "\n",
    "for i in my_generator:\n",
    "    print(i)\n",
    "    \n",
    "# Now using generator expression, use round braces to create a generator object\n",
    "\n",
    "my_gen = (n*n for n in my_num_list_1)\n",
    "\n",
    "for i in my_gen:\n",
    "    print(i)"
   ]
  },
  {
   "cell_type": "code",
   "execution_count": null,
   "metadata": {},
   "outputs": [],
   "source": []
  }
 ],
 "metadata": {
  "kernelspec": {
   "display_name": "Python 3",
   "language": "python",
   "name": "python3"
  },
  "language_info": {
   "codemirror_mode": {
    "name": "ipython",
    "version": 3
   },
   "file_extension": ".py",
   "mimetype": "text/x-python",
   "name": "python",
   "nbconvert_exporter": "python",
   "pygments_lexer": "ipython3",
   "version": "3.7.1"
  }
 },
 "nbformat": 4,
 "nbformat_minor": 2
}
