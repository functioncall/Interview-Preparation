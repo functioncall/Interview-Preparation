{
 "cells": [
  {
   "cell_type": "markdown",
   "metadata": {},
   "source": [
    "### Working with Strings in Python 3.6"
   ]
  },
  {
   "cell_type": "code",
   "execution_count": 1,
   "metadata": {},
   "outputs": [],
   "source": [
    "message = 'Hell with this world'"
   ]
  },
  {
   "cell_type": "markdown",
   "metadata": {},
   "source": [
    "When using list sling, the first index is inclusive and the second index is not."
   ]
  },
  {
   "cell_type": "code",
   "execution_count": 11,
   "metadata": {},
   "outputs": [
    {
     "name": "stdout",
     "output_type": "stream",
     "text": [
      "Hell\n",
      "Hell\n",
      "world\n",
      "world\n"
     ]
    }
   ],
   "source": [
    "print(message[0:4])\n",
    "print(message[:4]) # does the same thing as above\n",
    "print(message[15:len(message)])\n",
    "print(message[15:]) # does the same thing as above"
   ]
  },
  {
   "cell_type": "code",
   "execution_count": 14,
   "metadata": {},
   "outputs": [
    {
     "name": "stdout",
     "output_type": "stream",
     "text": [
      "hell with this world\n",
      "HELL WITH THIS WORLD\n"
     ]
    }
   ],
   "source": [
    "print(message.lower())\n",
    "print(message.upper())"
   ]
  },
  {
   "cell_type": "code",
   "execution_count": 16,
   "metadata": {},
   "outputs": [
    {
     "name": "stdout",
     "output_type": "stream",
     "text": [
      "1\n",
      "3\n"
     ]
    }
   ],
   "source": [
    "print(message.count(\"Hell\"))\n",
    "print(message.count(\"l\"))"
   ]
  },
  {
   "cell_type": "code",
   "execution_count": 18,
   "metadata": {},
   "outputs": [
    {
     "name": "stdout",
     "output_type": "stream",
     "text": [
      "10\n",
      "-1\n"
     ]
    }
   ],
   "source": [
    "print(message.find(\"this\"))\n",
    "print(message.find(\"thing\"))"
   ]
  },
  {
   "cell_type": "code",
   "execution_count": 22,
   "metadata": {},
   "outputs": [
    {
     "name": "stdout",
     "output_type": "stream",
     "text": [
      "Hell with this fucking world\n",
      "Hell with this world\n"
     ]
    }
   ],
   "source": [
    "print(message.replace(\"world\", \"fucking world\"))\n",
    "print(message) # original variable is not changed since it is replacing in place"
   ]
  },
  {
   "cell_type": "code",
   "execution_count": 26,
   "metadata": {},
   "outputs": [
    {
     "name": "stdout",
     "output_type": "stream",
     "text": [
      "Hello, Mike. Welcome!\n",
      "Hello, MIKE. Welcome!\n"
     ]
    }
   ],
   "source": [
    "greeting = \"Hello\"\n",
    "name = \"Mike\"\n",
    "\n",
    "# Using string formatting\n",
    "new_message = '{}, {}. Welcome!'.format(greeting, name)\n",
    "print(new_message)\n",
    "\n",
    "# Using f string\n",
    "new_message_1 = f'{greeting}, {name.upper()}. Welcome!'\n",
    "print(new_message_1)"
   ]
  },
  {
   "cell_type": "code",
   "execution_count": 27,
   "metadata": {},
   "outputs": [
    {
     "name": "stdout",
     "output_type": "stream",
     "text": [
      "['__add__', '__class__', '__contains__', '__delattr__', '__dir__', '__doc__', '__eq__', '__format__', '__ge__', '__getattribute__', '__getitem__', '__getnewargs__', '__gt__', '__hash__', '__init__', '__init_subclass__', '__iter__', '__le__', '__len__', '__lt__', '__mod__', '__mul__', '__ne__', '__new__', '__reduce__', '__reduce_ex__', '__repr__', '__rmod__', '__rmul__', '__setattr__', '__sizeof__', '__str__', '__subclasshook__', 'capitalize', 'casefold', 'center', 'count', 'encode', 'endswith', 'expandtabs', 'find', 'format', 'format_map', 'index', 'isalnum', 'isalpha', 'isascii', 'isdecimal', 'isdigit', 'isidentifier', 'islower', 'isnumeric', 'isprintable', 'isspace', 'istitle', 'isupper', 'join', 'ljust', 'lower', 'lstrip', 'maketrans', 'partition', 'replace', 'rfind', 'rindex', 'rjust', 'rpartition', 'rsplit', 'rstrip', 'split', 'splitlines', 'startswith', 'strip', 'swapcase', 'title', 'translate', 'upper', 'zfill']\n"
     ]
    }
   ],
   "source": [
    "print(dir(name))"
   ]
  },
  {
   "cell_type": "code",
   "execution_count": 31,
   "metadata": {},
   "outputs": [
    {
     "name": "stdout",
     "output_type": "stream",
     "text": [
      "Help on method_descriptor:\n",
      "\n",
      "lower(self, /)\n",
      "    Return a copy of the string converted to lowercase.\n",
      "\n",
      "None\n"
     ]
    }
   ],
   "source": [
    "# print(help(str))\n",
    "print(help(str.lower))"
   ]
  },
  {
   "cell_type": "markdown",
   "metadata": {},
   "source": [
    "#### String formatting "
   ]
  },
  {
   "cell_type": "code",
   "execution_count": 255,
   "metadata": {},
   "outputs": [
    {
     "name": "stdout",
     "output_type": "stream",
     "text": [
      "My name is Jenn and I am 23 years old.\n"
     ]
    }
   ],
   "source": [
    "person = {'name': 'Jenn', 'age': 23}\n",
    "\n",
    "sentence = 'My name is ' + person['name'] + ' and I am ' + str(person['age']) + ' years old.'\n",
    "print(sentence)"
   ]
  },
  {
   "cell_type": "code",
   "execution_count": 256,
   "metadata": {},
   "outputs": [
    {
     "name": "stdout",
     "output_type": "stream",
     "text": [
      "My name is Jenn and I am 23 years old.\n"
     ]
    }
   ],
   "source": [
    "sentence = 'My name is {} and I am {} years old.'.format(person['name'], person['age'])\n",
    "print(sentence)"
   ]
  },
  {
   "cell_type": "code",
   "execution_count": 257,
   "metadata": {},
   "outputs": [
    {
     "name": "stdout",
     "output_type": "stream",
     "text": [
      "My name is Jenn and I am 23 years old.\n"
     ]
    }
   ],
   "source": [
    "sentence = 'My name is {0} and I am {1} years old.'.format(person['name'], person['age'])\n",
    "print(sentence)"
   ]
  },
  {
   "cell_type": "code",
   "execution_count": 261,
   "metadata": {},
   "outputs": [
    {
     "name": "stdout",
     "output_type": "stream",
     "text": [
      "My name is Jenn and I am 23 years old.\n"
     ]
    }
   ],
   "source": [
    "sentence = 'My name is {0[name]} and I am {0[age]} years old.'.format(person)\n",
    "print(sentence)"
   ]
  },
  {
   "cell_type": "code",
   "execution_count": 262,
   "metadata": {},
   "outputs": [
    {
     "name": "stdout",
     "output_type": "stream",
     "text": [
      "<h1>This is a headline</h1>\n"
     ]
    }
   ],
   "source": [
    "tag = 'h1'\n",
    "text = 'This is a headline'\n",
    "\n",
    "sentence = '<{0}>{1}</{0}>'.format(tag, text)\n",
    "print(sentence)"
   ]
  },
  {
   "cell_type": "code",
   "execution_count": 263,
   "metadata": {},
   "outputs": [],
   "source": [
    "class Person():\n",
    "\n",
    "    def __init__(self, name, age):\n",
    "        self.name = name\n",
    "        self.age = age\n",
    "\n",
    "p1 = Person('Jack', '33')"
   ]
  },
  {
   "cell_type": "code",
   "execution_count": 264,
   "metadata": {},
   "outputs": [
    {
     "name": "stdout",
     "output_type": "stream",
     "text": [
      "My name is Jack and I am 33 years old.\n"
     ]
    }
   ],
   "source": [
    "sentence = 'My name is {0.name} and I am {0.age} years old.'.format(p1)\n",
    "print(sentence)"
   ]
  },
  {
   "cell_type": "code",
   "execution_count": 265,
   "metadata": {},
   "outputs": [
    {
     "name": "stdout",
     "output_type": "stream",
     "text": [
      "My name is Jenn and I am 30 years old.\n"
     ]
    }
   ],
   "source": [
    "sentence = 'My name is {name} and I am {age} years old.'.format(name='Jenn', age='30')\n",
    "\n",
    "print(sentence)"
   ]
  },
  {
   "cell_type": "code",
   "execution_count": 267,
   "metadata": {},
   "outputs": [
    {
     "name": "stdout",
     "output_type": "stream",
     "text": [
      "My name is Jenn and I am 23 years old.\n"
     ]
    }
   ],
   "source": [
    "some_person = {'name': 'Jenn', 'age': 23}\n",
    "\n",
    "sentence = 'My name is {name} and I am {age} years old.'.format(**some_person) # unpacking values from a dictionary\n",
    "print(sentence)"
   ]
  },
  {
   "cell_type": "code",
   "execution_count": 274,
   "metadata": {},
   "outputs": [
    {
     "name": "stdout",
     "output_type": "stream",
     "text": [
      "The value is 1\n",
      "The value is 01\n",
      "\n",
      "The value is 2\n",
      "The value is 02\n",
      "\n",
      "The value is 3\n",
      "The value is 03\n",
      "\n",
      "The value is 4\n",
      "The value is 04\n",
      "\n",
      "The value is 5\n",
      "The value is 05\n",
      "\n",
      "The value is 6\n",
      "The value is 06\n",
      "\n",
      "The value is 7\n",
      "The value is 07\n",
      "\n",
      "The value is 8\n",
      "The value is 08\n",
      "\n",
      "The value is 9\n",
      "The value is 09\n",
      "\n",
      "The value is 10\n",
      "The value is 10\n",
      "\n"
     ]
    }
   ],
   "source": [
    "# use : to enable string formatting and specify the syntax after that\n",
    "\n",
    "for i in range(1, 11):\n",
    "    print('The value is {}'.format(i))\n",
    "    print('The value is {:02}'.format(i))\n",
    "    print()\n"
   ]
  },
  {
   "cell_type": "code",
   "execution_count": 276,
   "metadata": {},
   "outputs": [
    {
     "name": "stdout",
     "output_type": "stream",
     "text": [
      "Pi is equal to 3.14159265\n",
      "Pi is equal to 3.14\n",
      "Pi is equal to 3.142\n"
     ]
    }
   ],
   "source": [
    "pi = 3.14159265\n",
    "\n",
    "print('Pi is equal to {}'.format(pi))\n",
    "print('Pi is equal to {:.2f}'.format(pi))\n",
    "print('Pi is equal to {:.3f}'.format(pi))\n"
   ]
  },
  {
   "cell_type": "code",
   "execution_count": 280,
   "metadata": {},
   "outputs": [
    {
     "name": "stdout",
     "output_type": "stream",
     "text": [
      "1 MB is equal to 1,000,000 bytes\n",
      "1 MB is equal to 1,000,000.00 bytes\n"
     ]
    }
   ],
   "source": [
    "# to specify comma separators\n",
    "\n",
    "print('1 MB is equal to {:,} bytes'.format(1000**2))\n",
    "print('1 MB is equal to {:,.2f} bytes'.format(1000**2))"
   ]
  },
  {
   "cell_type": "code",
   "execution_count": 282,
   "metadata": {},
   "outputs": [
    {
     "name": "stdout",
     "output_type": "stream",
     "text": [
      "2016-09-24 12:30:45\n",
      "September 24, 2016\n"
     ]
    }
   ],
   "source": [
    "import datetime\n",
    "\n",
    "my_date = datetime.datetime(2016, 9, 24, 12, 30, 45)\n",
    "\n",
    "print(my_date)"
   ]
  },
  {
   "cell_type": "code",
   "execution_count": 284,
   "metadata": {},
   "outputs": [
    {
     "name": "stdout",
     "output_type": "stream",
     "text": [
      "September 24, 2016\n",
      "September 24, 2016 fell on a 2016-09-24 12:30:45 and was the 2016-09-24 12:30:45 day of the year\n"
     ]
    }
   ],
   "source": [
    "# Print in following formats\n",
    "\n",
    "# March 01, 2016 \n",
    "print('{:%B %d, %Y}'.format(my_date))\n",
    "\n",
    "# March 01, 2016 fell on a Tuesday and was the 061 day of the year.\n",
    "print('{0:%B %d, %Y} fell on a {0} and was the {0} day of the year'.format(my_date))"
   ]
  },
  {
   "cell_type": "markdown",
   "metadata": {},
   "source": [
    "### Working with Numbers in Python 3.6"
   ]
  },
  {
   "cell_type": "code",
   "execution_count": 191,
   "metadata": {},
   "outputs": [
    {
     "name": "stdout",
     "output_type": "stream",
     "text": [
      "Addition operator:  5\n",
      "Subtraction operator:  1\n",
      "Multiplication operator:  6\n",
      "Division operator:  1.5\n",
      "Floor Division operator:  1\n",
      "Exponent operator:  9\n",
      "Modulus operator:  1\n"
     ]
    }
   ],
   "source": [
    "print(\"Addition operator: \", 3 + 2)\n",
    "print(\"Subtraction operator: \", 3 - 2)\n",
    "print(\"Multiplication operator: \", 3 * 2)\n",
    "print(\"Division operator: \", 3 / 2)\n",
    "print(\"Floor Division operator: \", 3 // 2)\n",
    "print(\"Exponent operator: \", 3 ** 2)\n",
    "print(\"Modulus operator: \", 3 % 2)"
   ]
  },
  {
   "cell_type": "code",
   "execution_count": 38,
   "metadata": {},
   "outputs": [
    {
     "name": "stdout",
     "output_type": "stream",
     "text": [
      "7\n",
      "9\n"
     ]
    }
   ],
   "source": [
    "print(3 * 2 + 1)\n",
    "print(3 * (2 + 1))"
   ]
  },
  {
   "cell_type": "code",
   "execution_count": 39,
   "metadata": {},
   "outputs": [
    {
     "name": "stdout",
     "output_type": "stream",
     "text": [
      "3\n"
     ]
    }
   ],
   "source": [
    "print(abs(-3))"
   ]
  },
  {
   "cell_type": "code",
   "execution_count": 43,
   "metadata": {},
   "outputs": [
    {
     "name": "stdout",
     "output_type": "stream",
     "text": [
      "4\n",
      "3.8\n"
     ]
    }
   ],
   "source": [
    "print(round(3.75))\n",
    "print(round(3.75, 1))"
   ]
  },
  {
   "cell_type": "markdown",
   "metadata": {},
   "source": [
    "### Working with List, Tuples, and Sets in Python 3.6"
   ]
  },
  {
   "cell_type": "code",
   "execution_count": 192,
   "metadata": {},
   "outputs": [
    {
     "name": "stdout",
     "output_type": "stream",
     "text": [
      "5\n",
      "A\n",
      "E\n",
      "E\n",
      "['A', 'B', 'C']\n"
     ]
    }
   ],
   "source": [
    "letter_list = [\"A\", \"B\", \"C\", \"D\", \"E\"]\n",
    "print(len(letter_list))\n",
    "print(letter_list[0]) # getting the first item\n",
    "print(letter_list[4]) # getting last item\n",
    "print(letter_list[-1]) # getting last item by negative index\n",
    "print(letter_list[:3])\n"
   ]
  },
  {
   "cell_type": "code",
   "execution_count": 70,
   "metadata": {},
   "outputs": [
    {
     "name": "stdout",
     "output_type": "stream",
     "text": [
      "['A', 'B', 'C', 'D', 'E', 'F']\n"
     ]
    }
   ],
   "source": [
    "letter_list.append(\"F\")\n",
    "print(letter_list)"
   ]
  },
  {
   "cell_type": "code",
   "execution_count": 71,
   "metadata": {},
   "outputs": [
    {
     "name": "stdout",
     "output_type": "stream",
     "text": [
      "['A', 'G', 'B', 'C', 'D', 'E', 'F']\n"
     ]
    }
   ],
   "source": [
    "letter_list.insert(1, \"G\")\n",
    "print(letter_list)"
   ]
  },
  {
   "cell_type": "code",
   "execution_count": 72,
   "metadata": {},
   "outputs": [
    {
     "name": "stdout",
     "output_type": "stream",
     "text": [
      "['A', 'G', 'B', 'C', 'D', 'E', 'F', 'X', 'Y', 'Z']\n"
     ]
    }
   ],
   "source": [
    "letter_list_2 = [\"X\", \"Y\", \"Z\"]\n",
    "letter_list.extend(letter_list_2)\n",
    "print(letter_list)"
   ]
  },
  {
   "cell_type": "code",
   "execution_count": 73,
   "metadata": {},
   "outputs": [
    {
     "name": "stdout",
     "output_type": "stream",
     "text": [
      "['A', 'B', 'C', 'D', 'E', 'F', 'X', 'Y', 'Z']\n"
     ]
    }
   ],
   "source": [
    "letter_list.remove('G')\n",
    "print(letter_list)"
   ]
  },
  {
   "cell_type": "code",
   "execution_count": 74,
   "metadata": {},
   "outputs": [
    {
     "name": "stdout",
     "output_type": "stream",
     "text": [
      "popped value:  Z\n",
      "['A', 'B', 'C', 'D', 'E', 'F', 'X', 'Y']\n"
     ]
    }
   ],
   "source": [
    "popped = letter_list.pop() # remove last element\n",
    "print(\"popped value: \", popped)\n",
    "print(letter_list)"
   ]
  },
  {
   "cell_type": "code",
   "execution_count": 75,
   "metadata": {},
   "outputs": [
    {
     "name": "stdout",
     "output_type": "stream",
     "text": [
      "['Y', 'X', 'F', 'E', 'D', 'C', 'B', 'A']\n"
     ]
    }
   ],
   "source": [
    "# print list in reverse\n",
    "letter_list.reverse()\n",
    "print(letter_list)"
   ]
  },
  {
   "cell_type": "code",
   "execution_count": 78,
   "metadata": {},
   "outputs": [
    {
     "name": "stdout",
     "output_type": "stream",
     "text": [
      "['A', 'B', 'C', 'D', 'E', 'F', 'X', 'Y']\n",
      "['Y', 'X', 'F', 'E', 'D', 'C', 'B', 'A']\n"
     ]
    }
   ],
   "source": [
    "# Sort list in place using sort() method. Variable assiging not needed\n",
    "letter_list.sort()\n",
    "print(letter_list)\n",
    "\n",
    "# sort in reverse\n",
    "letter_list.sort(reverse=True)\n",
    "print(letter_list)"
   ]
  },
  {
   "cell_type": "code",
   "execution_count": 79,
   "metadata": {},
   "outputs": [],
   "source": [
    "# Sort list without altering original list using sorted() function\n",
    "# This function can be used on tuples and dictionaries \n",
    "# since they do not have their own sort function as in case of a list (list.sort())"
   ]
  },
  {
   "cell_type": "code",
   "execution_count": 80,
   "metadata": {},
   "outputs": [
    {
     "name": "stdout",
     "output_type": "stream",
     "text": [
      "[2, 3, 1, 7, 3, 8]\n",
      "[1, 2, 3, 3, 7, 8]\n"
     ]
    }
   ],
   "source": [
    "example_list = [2,3,1,7,3,8]\n",
    "sorted_list = sorted(example_list)\n",
    "print(example_list)\n",
    "print(sorted_list)"
   ]
  },
  {
   "cell_type": "code",
   "execution_count": 235,
   "metadata": {},
   "outputs": [
    {
     "name": "stdout",
     "output_type": "stream",
     "text": [
      "[1, 2, 3, -4, -5, -6]\n"
     ]
    }
   ],
   "source": [
    "# Sorting based on a different criteria\n",
    "l = [-6,-5,-4,1,2,3]\n",
    "print(sorted(l, key=abs))"
   ]
  },
  {
   "cell_type": "code",
   "execution_count": 252,
   "metadata": {},
   "outputs": [
    {
     "name": "stdout",
     "output_type": "stream",
     "text": [
      "[Julia,27,$80000, Mike,28,$90000, Sam,29,$100000]\n"
     ]
    }
   ],
   "source": [
    "# Sorting criteria another example\n",
    "class Employee:\n",
    "    def __init__(self, name, age, salary):\n",
    "        self.name = name\n",
    "        self.age = age\n",
    "        self.salary = salary\n",
    "        \n",
    "    def __repr__(self):\n",
    "        return f\"{self.name},{self.age},${self.salary}\"\n",
    "    \n",
    "e1 = Employee(\"Mike\", 28, 90000)\n",
    "e2 = Employee(\"Julia\", 27, 80000)\n",
    "e3 = Employee(\"Sam\", 29, 100000)\n",
    "\n",
    "employees = [e1, e2, e3]\n",
    "\n",
    "# def sort_emp(emp):\n",
    "#     return emp.salary\n",
    "\n",
    "# print(sorted(employees, key=sort_emp, reverse=True))\n",
    "\n",
    "# using lambda function\n",
    "# print(sorted(employees, key=lambda e: e.name))\n",
    "\n",
    "# use attribute getter\n",
    "from operator import attrgetter\n",
    "\n",
    "print(sorted(employees, key=attrgetter('name')))"
   ]
  },
  {
   "cell_type": "code",
   "execution_count": 82,
   "metadata": {},
   "outputs": [
    {
     "name": "stdout",
     "output_type": "stream",
     "text": [
      "1\n",
      "8\n",
      "24\n"
     ]
    }
   ],
   "source": [
    "# Min, Max and Sum function\n",
    "example_list = [2,3,1,7,3,8]\n",
    "print(min(example_list))\n",
    "print(max(example_list))\n",
    "print(sum(example_list))"
   ]
  },
  {
   "cell_type": "code",
   "execution_count": 85,
   "metadata": {},
   "outputs": [
    {
     "name": "stdout",
     "output_type": "stream",
     "text": [
      "['Y', 'X', 'F', 'E', 'D', 'C', 'B', 'A']\n",
      "1\n",
      "True\n",
      "False\n"
     ]
    }
   ],
   "source": [
    "# find index of a value in list\n",
    "print(letter_list)\n",
    "print(letter_list.index(\"X\"))\n",
    "\n",
    "print(\"F\" in letter_list)\n",
    "print(\"P\" in letter_list)"
   ]
  },
  {
   "cell_type": "code",
   "execution_count": 88,
   "metadata": {},
   "outputs": [
    {
     "name": "stdout",
     "output_type": "stream",
     "text": [
      "Y\n",
      "X\n",
      "F\n",
      "E\n",
      "D\n",
      "C\n",
      "B\n",
      "A\n"
     ]
    }
   ],
   "source": [
    "for letter in letter_list:\n",
    "    print(letter)"
   ]
  },
  {
   "cell_type": "code",
   "execution_count": 90,
   "metadata": {},
   "outputs": [
    {
     "name": "stdout",
     "output_type": "stream",
     "text": [
      "0 Y\n",
      "1 X\n",
      "2 F\n",
      "3 E\n",
      "4 D\n",
      "5 C\n",
      "6 B\n",
      "7 A\n"
     ]
    }
   ],
   "source": [
    "# iterate and get index too\n",
    "for index, letter in enumerate(letter_list):\n",
    "    print(index, letter)"
   ]
  },
  {
   "cell_type": "code",
   "execution_count": 92,
   "metadata": {},
   "outputs": [
    {
     "name": "stdout",
     "output_type": "stream",
     "text": [
      "[4, 2, 3]\n",
      "[4, 2, 3]\n"
     ]
    }
   ],
   "source": [
    "# Mutable, list are mutable objects in python\n",
    "list_1 = [1,2,3]\n",
    "list_2 = list_1\n",
    "\n",
    "list_1[0] = 4\n",
    "print(list_1)\n",
    "print(list_2)"
   ]
  },
  {
   "cell_type": "code",
   "execution_count": 94,
   "metadata": {},
   "outputs": [
    {
     "ename": "TypeError",
     "evalue": "'tuple' object does not support item assignment",
     "output_type": "error",
     "traceback": [
      "\u001b[0;31m---------------------------------------------------------------------------\u001b[0m",
      "\u001b[0;31mTypeError\u001b[0m                                 Traceback (most recent call last)",
      "\u001b[0;32m<ipython-input-94-4075416cd46c>\u001b[0m in \u001b[0;36m<module>\u001b[0;34m\u001b[0m\n\u001b[1;32m      4\u001b[0m \u001b[0mtuple_2\u001b[0m \u001b[0;34m=\u001b[0m \u001b[0mtuple_1\u001b[0m\u001b[0;34m\u001b[0m\u001b[0;34m\u001b[0m\u001b[0m\n\u001b[1;32m      5\u001b[0m \u001b[0;34m\u001b[0m\u001b[0m\n\u001b[0;32m----> 6\u001b[0;31m \u001b[0mtuple_1\u001b[0m\u001b[0;34m[\u001b[0m\u001b[0;36m0\u001b[0m\u001b[0;34m]\u001b[0m \u001b[0;34m=\u001b[0m \u001b[0;36m4\u001b[0m\u001b[0;34m\u001b[0m\u001b[0;34m\u001b[0m\u001b[0m\n\u001b[0m\u001b[1;32m      7\u001b[0m \u001b[0;34m\u001b[0m\u001b[0m\n\u001b[1;32m      8\u001b[0m \u001b[0mprint\u001b[0m\u001b[0;34m(\u001b[0m\u001b[0mtuple_1\u001b[0m\u001b[0;34m)\u001b[0m\u001b[0;34m\u001b[0m\u001b[0;34m\u001b[0m\u001b[0m\n",
      "\u001b[0;31mTypeError\u001b[0m: 'tuple' object does not support item assignment"
     ]
    }
   ],
   "source": [
    "# Immutable objects\n",
    "# Tuple\n",
    "tuple_1 = (1,2,3)\n",
    "tuple_2 = tuple_1\n",
    "\n",
    "tuple_1[0] = 4\n",
    "\n",
    "print(tuple_1)\n",
    "print(tuple_2)"
   ]
  },
  {
   "cell_type": "code",
   "execution_count": 98,
   "metadata": {},
   "outputs": [
    {
     "name": "stdout",
     "output_type": "stream",
     "text": [
      "{'Math', 'CS', 'Art'}\n",
      "{'Chemistry', 'Physics', 'Math'}\n",
      "intersection: {'Math'}\n",
      "difference {'CS', 'Art'}\n",
      "union {'Chemistry', 'Art', 'Math', 'Physics', 'CS'}\n"
     ]
    }
   ],
   "source": [
    "# Immutable objects\n",
    "# Sets\n",
    "\n",
    "course_set_1 = {\"Art\", \"Math\", \"CS\", \"Math\"}\n",
    "course_set_2 = {\"Physics\", \"Chemistry\", \"Math\"}\n",
    "print(course_set_1) # set automatically removes duplicates\n",
    "print(course_set_2)\n",
    "\n",
    "# set operators\n",
    "print(\"intersection:\", course_set_1.intersection(course_set_2))\n",
    "print(\"difference\", course_set_1.difference(course_set_2))\n",
    "print(\"union\", course_set_1.union(course_set_2))"
   ]
  },
  {
   "cell_type": "code",
   "execution_count": 99,
   "metadata": {},
   "outputs": [],
   "source": [
    "# Empty list\n",
    "l = []\n",
    "l = list()\n",
    "\n",
    "# Empty tuple\n",
    "t = ()\n",
    "t = tuple()\n",
    "\n",
    "# Empty set\n",
    "s = set()\n",
    "\n",
    "# Empty dictionary \n",
    "d = {}\n",
    "d = dict()"
   ]
  },
  {
   "cell_type": "markdown",
   "metadata": {},
   "source": [
    "### Dictionaries - Working with Key-Value Pairs"
   ]
  },
  {
   "cell_type": "code",
   "execution_count": 101,
   "metadata": {},
   "outputs": [],
   "source": [
    "student = {\"name\": \"Mike\", \"age\": 21, \"courses\": [\"Maths\", \"CS\"]}"
   ]
  },
  {
   "cell_type": "code",
   "execution_count": 102,
   "metadata": {},
   "outputs": [
    {
     "name": "stdout",
     "output_type": "stream",
     "text": [
      "Mike\n"
     ]
    }
   ],
   "source": [
    "print(student[\"name\"])"
   ]
  },
  {
   "cell_type": "code",
   "execution_count": 103,
   "metadata": {},
   "outputs": [
    {
     "ename": "KeyError",
     "evalue": "'phone'",
     "output_type": "error",
     "traceback": [
      "\u001b[0;31m---------------------------------------------------------------------------\u001b[0m",
      "\u001b[0;31mKeyError\u001b[0m                                  Traceback (most recent call last)",
      "\u001b[0;32m<ipython-input-103-ad1adc43b798>\u001b[0m in \u001b[0;36m<module>\u001b[0;34m\u001b[0m\n\u001b[1;32m      1\u001b[0m \u001b[0;31m# getting key which doesn't exists\u001b[0m\u001b[0;34m\u001b[0m\u001b[0;34m\u001b[0m\u001b[0;34m\u001b[0m\u001b[0m\n\u001b[0;32m----> 2\u001b[0;31m \u001b[0mprint\u001b[0m\u001b[0;34m(\u001b[0m\u001b[0mstudent\u001b[0m\u001b[0;34m[\u001b[0m\u001b[0;34m\"phone\"\u001b[0m\u001b[0;34m]\u001b[0m\u001b[0;34m)\u001b[0m\u001b[0;34m\u001b[0m\u001b[0;34m\u001b[0m\u001b[0m\n\u001b[0m",
      "\u001b[0;31mKeyError\u001b[0m: 'phone'"
     ]
    }
   ],
   "source": [
    "# getting key which doesn't exists\n",
    "print(student[\"phone\"])"
   ]
  },
  {
   "cell_type": "code",
   "execution_count": 105,
   "metadata": {},
   "outputs": [
    {
     "name": "stdout",
     "output_type": "stream",
     "text": [
      "None\n",
      "Key not found\n"
     ]
    }
   ],
   "source": [
    "# getting key which doesn't exists without error\n",
    "print(student.get(\"Phone\"))\n",
    "print(student.get(\"Phone\", \"Key not found\")) # Add error message"
   ]
  },
  {
   "cell_type": "code",
   "execution_count": 106,
   "metadata": {},
   "outputs": [
    {
     "name": "stdout",
     "output_type": "stream",
     "text": [
      "{'name': 'Mike', 'age': 21, 'courses': ['Maths', 'CS'], 'phone': 123987456}\n"
     ]
    }
   ],
   "source": [
    "# setting new value\n",
    "student[\"phone\"] = 123987456\n",
    "print(student)"
   ]
  },
  {
   "cell_type": "code",
   "execution_count": 107,
   "metadata": {},
   "outputs": [
    {
     "name": "stdout",
     "output_type": "stream",
     "text": [
      "{'name': 'Mike', 'age': 21, 'courses': ['Maths', 'CS'], 'phone': 99999999}\n"
     ]
    }
   ],
   "source": [
    "# update value\n",
    "student[\"phone\"] = 99999999\n",
    "print(student)"
   ]
  },
  {
   "cell_type": "code",
   "execution_count": 109,
   "metadata": {},
   "outputs": [
    {
     "name": "stdout",
     "output_type": "stream",
     "text": [
      "{'name': 'Micheal', 'age': 26, 'courses': ['Maths', 'CS'], 'phone': 111111111}\n"
     ]
    }
   ],
   "source": [
    "# update value using update method\n",
    "student.update({'name': 'Micheal', 'age': 26, 'phone': 111111111})\n",
    "print(student)"
   ]
  },
  {
   "cell_type": "code",
   "execution_count": 110,
   "metadata": {},
   "outputs": [
    {
     "name": "stdout",
     "output_type": "stream",
     "text": [
      "{'name': 'Micheal', 'courses': ['Maths', 'CS'], 'phone': 111111111}\n"
     ]
    }
   ],
   "source": [
    "# delete a key value pair\n",
    "del student[\"age\"]\n",
    "print(student)"
   ]
  },
  {
   "cell_type": "code",
   "execution_count": 112,
   "metadata": {},
   "outputs": [
    {
     "name": "stdout",
     "output_type": "stream",
     "text": [
      "111111111\n",
      "{'name': 'Micheal', 'courses': ['Maths', 'CS']}\n"
     ]
    }
   ],
   "source": [
    "# delete a key value pair and grab the value using pop method\n",
    "deleted_phone = student.pop(\"phone\")\n",
    "print(deleted_phone)\n",
    "print(student)"
   ]
  },
  {
   "cell_type": "code",
   "execution_count": 115,
   "metadata": {},
   "outputs": [
    {
     "name": "stdout",
     "output_type": "stream",
     "text": [
      "2\n",
      "dict_keys(['name', 'courses'])\n",
      "dict_values(['Micheal', ['Maths', 'CS']])\n",
      "dict_items([('name', 'Micheal'), ('courses', ['Maths', 'CS'])])\n"
     ]
    }
   ],
   "source": [
    "print(len(student)) # length of keys in the dict\n",
    "print(student.keys())\n",
    "print(student.values())\n",
    "print(student.items())"
   ]
  },
  {
   "cell_type": "code",
   "execution_count": 116,
   "metadata": {},
   "outputs": [
    {
     "name": "stdout",
     "output_type": "stream",
     "text": [
      "name Micheal\n",
      "courses ['Maths', 'CS']\n"
     ]
    }
   ],
   "source": [
    "# loop through a dict\n",
    "for key, value in student.items():\n",
    "    print(key, value)"
   ]
  },
  {
   "cell_type": "markdown",
   "metadata": {},
   "source": [
    "### Conditionals and Booleans - If, Else, and Elif Statements"
   ]
  },
  {
   "cell_type": "code",
   "execution_count": 126,
   "metadata": {},
   "outputs": [
    {
     "name": "stdout",
     "output_type": "stream",
     "text": [
      "True\n",
      "id of a: 4450950536 and id of b: 4450657480\n",
      "False\n"
     ]
    }
   ],
   "source": [
    "a = [1,2,3]\n",
    "b = [1,2,3]\n",
    "\n",
    "print(a == b)\n",
    "print(f\"id of a: {id(b)} and id of b: {id(a)}\")\n",
    "print(a is b)"
   ]
  },
  {
   "cell_type": "code",
   "execution_count": 129,
   "metadata": {},
   "outputs": [
    {
     "name": "stdout",
     "output_type": "stream",
     "text": [
      "Evaluated to False\n"
     ]
    }
   ],
   "source": [
    "# False evaluation\n",
    "\n",
    "# False value\n",
    "# False\n",
    "# None\n",
    "# Zero of any numeric type\n",
    "# Any empty sequence, eg: '', [], ()\n",
    "# or any empty mapping {}\n",
    "\n",
    "condition =  False\n",
    "\n",
    "if condition:\n",
    "    print(\"Evaluated to True\")\n",
    "else:\n",
    "    print(\"Evaluated to False\")"
   ]
  },
  {
   "cell_type": "markdown",
   "metadata": {},
   "source": [
    "### Functions"
   ]
  },
  {
   "cell_type": "code",
   "execution_count": 132,
   "metadata": {},
   "outputs": [
    {
     "name": "stdout",
     "output_type": "stream",
     "text": [
      "HELLO FUNCTION!\n"
     ]
    }
   ],
   "source": [
    "def hello_func():\n",
    "    return \"Hello function!\"\n",
    "\n",
    "print(hello_func().upper())"
   ]
  },
  {
   "cell_type": "code",
   "execution_count": 136,
   "metadata": {},
   "outputs": [
    {
     "name": "stdout",
     "output_type": "stream",
     "text": [
      "Hi, You\n",
      "Hi, Shekhar\n"
     ]
    }
   ],
   "source": [
    "def hello_function(greeting, name=\"You\"):\n",
    "    return \"{}, {}\".format(greeting, name)\n",
    "\n",
    "print(hello_function('Hi'))\n",
    "print(hello_function('Hi', name=\"Shekhar\"))"
   ]
  },
  {
   "cell_type": "code",
   "execution_count": 140,
   "metadata": {},
   "outputs": [
    {
     "name": "stdout",
     "output_type": "stream",
     "text": [
      "('Math', 'CS') {'name': 'Mike', 'age': 21}\n",
      "('Math', 'CS') {'name': 'Mike', 'age': 21}\n"
     ]
    }
   ],
   "source": [
    "def student_info(*args, **kwargs):\n",
    "    print(args, kwargs)\n",
    "    \n",
    "student_info(\"Math\", \"CS\", name=\"Mike\", age=21)\n",
    "\n",
    "courses = [\"Math\", \"CS\"]\n",
    "info = {\"name\": \"Mike\", \"age\": 21}\n",
    "\n",
    "student_info(*courses, **info)"
   ]
  },
  {
   "cell_type": "markdown",
   "metadata": {},
   "source": [
    "### Moduel Imports"
   ]
  },
  {
   "cell_type": "code",
   "execution_count": 141,
   "metadata": {},
   "outputs": [
    {
     "name": "stdout",
     "output_type": "stream",
     "text": [
      "['/Users/shekhar/Documents/Notebooks', '/anaconda3/lib/python37.zip', '/anaconda3/lib/python3.7', '/anaconda3/lib/python3.7/lib-dynload', '', '/Users/shekhar/.local/lib/python3.7/site-packages', '/anaconda3/lib/python3.7/site-packages', '/anaconda3/lib/python3.7/site-packages/aeosa', '/anaconda3/lib/python3.7/site-packages/IPython/extensions', '/Users/shekhar/.ipython']\n"
     ]
    }
   ],
   "source": [
    "import sys\n",
    "\n",
    "print(sys.path)"
   ]
  },
  {
   "cell_type": "code",
   "execution_count": 146,
   "metadata": {},
   "outputs": [
    {
     "name": "stdout",
     "output_type": "stream",
     "text": [
      "['Y', 'X', 'F', 'E', 'D', 'C', 'B', 'A']\n",
      "E\n"
     ]
    }
   ],
   "source": [
    "import random\n",
    "\n",
    "print(letter_list)\n",
    "print(random.choice(letter_list))"
   ]
  },
  {
   "cell_type": "code",
   "execution_count": 155,
   "metadata": {},
   "outputs": [
    {
     "name": "stdout",
     "output_type": "stream",
     "text": [
      "2019-09-09\n",
      "True\n"
     ]
    }
   ],
   "source": [
    "import datetime\n",
    "import calendar\n",
    "\n",
    "today = datetime.date.today()\n",
    "print(today)\n",
    "\n",
    "print(calendar.isleap(2020))"
   ]
  },
  {
   "cell_type": "code",
   "execution_count": 159,
   "metadata": {},
   "outputs": [
    {
     "name": "stdout",
     "output_type": "stream",
     "text": [
      "/Users/shekhar/Documents/Notebooks\n",
      "/anaconda3/lib/python3.7/os.py\n"
     ]
    }
   ],
   "source": [
    "import os\n",
    "\n",
    "print(os.getcwd())\n",
    "print(os.__file__) # prints the python module path\n"
   ]
  },
  {
   "cell_type": "code",
   "execution_count": 193,
   "metadata": {},
   "outputs": [
    {
     "name": "stdout",
     "output_type": "stream",
     "text": [
      "/Users/shekhar/Desktop\n"
     ]
    }
   ],
   "source": [
    "# change directory using os module\n",
    "\n",
    "os.chdir('/Users/shekhar/Desktop/')\n",
    "print(os.getcwd())"
   ]
  },
  {
   "cell_type": "code",
   "execution_count": 194,
   "metadata": {},
   "outputs": [
    {
     "name": "stdout",
     "output_type": "stream",
     "text": [
      "['.DS_Store', '.localized', 'Files', 'jolocom']\n"
     ]
    }
   ],
   "source": [
    "# to list the file and folders in the directory\n",
    "print(os.listdir())"
   ]
  },
  {
   "cell_type": "code",
   "execution_count": 200,
   "metadata": {},
   "outputs": [
    {
     "name": "stdout",
     "output_type": "stream",
     "text": [
      "['.DS_Store', 'Test', '.localized', 'Files', 'Test4', 'Test5', 'jolocom']\n"
     ]
    }
   ],
   "source": [
    "# make directory\n",
    "# os.mkdir('Test') # Cannot used mkdir to make subdirectories like /Test/test/\n",
    "# print(os.listdir())\n",
    "\n",
    "# In order to make subfolders directories use makedirs os function\n",
    "os.makedirs('Test5/test/1')\n",
    "print(os.listdir())\n"
   ]
  },
  {
   "cell_type": "code",
   "execution_count": 204,
   "metadata": {},
   "outputs": [
    {
     "name": "stdout",
     "output_type": "stream",
     "text": [
      "['.DS_Store', '.localized', 'Files', 'jolocom']\n"
     ]
    }
   ],
   "source": [
    "# os.rmdir(\"Test\") # to remove specific directory\n",
    "\n",
    "os.removedirs(\"Test4/test/1\") # to remove subfolders directories\n",
    "print(os.listdir())\n"
   ]
  },
  {
   "cell_type": "code",
   "execution_count": null,
   "metadata": {},
   "outputs": [],
   "source": [
    "# to rename a file or folder\n",
    "os.rename('original-filename.txt', 'new-filename.txt')"
   ]
  },
  {
   "cell_type": "code",
   "execution_count": 209,
   "metadata": {},
   "outputs": [
    {
     "name": "stdout",
     "output_type": "stream",
     "text": [
      "2019-09-10 12:00:45.748878\n"
     ]
    }
   ],
   "source": [
    "# to get file stats\n",
    "# os.stat('.DS_Store')\n",
    "\n",
    "# Useful stat results: st_size (bytes), st_mtime (time stamp) - last modified timestamp\n",
    "# os.stat('.DS_Store').st_size\n",
    "\n",
    "from datetime import datetime\n",
    "\n",
    "last_modified_timestamp = os.stat('.DS_Store').st_mtime \n",
    "print(datetime.fromtimestamp(last_modified_timestamp))"
   ]
  },
  {
   "cell_type": "code",
   "execution_count": 213,
   "metadata": {},
   "outputs": [],
   "source": [
    "# to list all directories and files in all subdirectories\n",
    "\n",
    "for dirpath, dirnames, filenames in os.walk(os.getcwd()):\n",
    "    print(\"dirpath: \", dirpath)\n",
    "    print(\"dirnames: \", dirnames)\n",
    "    print(\"filenames: \", filenames)\n",
    "    print()\n"
   ]
  },
  {
   "cell_type": "code",
   "execution_count": 220,
   "metadata": {},
   "outputs": [
    {
     "data": {
      "text/plain": [
       "'/Users/shekhar'"
      ]
     },
     "execution_count": 220,
     "metadata": {},
     "output_type": "execute_result"
    }
   ],
   "source": [
    "# Get environment variables\n",
    "# os.environ # gets all environment variables of the os\n",
    "os.environ.get('HOME')"
   ]
  },
  {
   "cell_type": "code",
   "execution_count": 222,
   "metadata": {},
   "outputs": [
    {
     "name": "stdout",
     "output_type": "stream",
     "text": [
      "/Users/shekhar/test.txt\n"
     ]
    }
   ],
   "source": [
    "# create a path or join paths\n",
    "file_path = os.path.join(os.environ.get('HOME'), 'test.txt')\n",
    "print(file_path)"
   ]
  },
  {
   "cell_type": "code",
   "execution_count": 233,
   "metadata": {},
   "outputs": [
    {
     "name": "stdout",
     "output_type": "stream",
     "text": [
      "mesosphere.jpg\n",
      "/Users/shekhar/Desktop/Files\n",
      "('/Users/shekhar/Desktop/Files', 'mesosphere.jpg')\n",
      "Does this file exists:  True\n",
      "Is is a file:  True\n",
      "Is it a directory:  True\n",
      "('/Users/shekhar/Desktop/Files/mesosphere', '.jpg')\n"
     ]
    }
   ],
   "source": [
    "# get basename of a filepath\n",
    "print(os.path.basename('/Users/shekhar/Desktop/Files/mesosphere.jpg'))\n",
    "\n",
    "# get dir from a filepath\n",
    "print(os.path.dirname('/Users/shekhar/Desktop/Files/mesosphere.jpg'))\n",
    "\n",
    "# to get both use split\n",
    "print(os.path.split('/Users/shekhar/Desktop/Files/mesosphere.jpg'))\n",
    "\n",
    "# to check whether a file exists\n",
    "print(\"Does this file exists: \", os.path.exists('/Users/shekhar/Desktop/Files/mesosphere.jpg'))\n",
    "\n",
    "# to check for something whether its a file or not\n",
    "print(\"Is is a file: \", os.path.isfile('/Users/shekhar/Desktop/Files/mesosphere.jpg'))\n",
    "\n",
    "# to check for something whether its a directory or not\n",
    "print(\"Is it a directory: \", os.path.isdir('/Users/shekhar/Desktop/Files'))\n",
    "\n",
    "# to split file root and extension\n",
    "print(os.path.splitext('/Users/shekhar/Desktop/Files/mesosphere.jpg'))"
   ]
  },
  {
   "cell_type": "markdown",
   "metadata": {},
   "source": [
    "### Working with dates\n",
    "\n",
    "https://docs.python.org/2/library/datetime.html"
   ]
  },
  {
   "cell_type": "code",
   "execution_count": 8,
   "metadata": {},
   "outputs": [],
   "source": [
    "import datetime\n",
    "import pytz"
   ]
  },
  {
   "cell_type": "code",
   "execution_count": 2,
   "metadata": {},
   "outputs": [
    {
     "name": "stdout",
     "output_type": "stream",
     "text": [
      "2019-12-24\n",
      "todays date:  2019-09-10\n",
      "todays date year:  2019\n",
      "todays date month:  9\n",
      "todays date day:  10\n",
      "is weekday? 1\n",
      "is iso weekday? 2\n"
     ]
    }
   ],
   "source": [
    "# Working with datetime.time\n",
    "\n",
    "# create a date\n",
    "d = datetime.date(2019, 12, 24)\n",
    "print(d)\n",
    "\n",
    "todays_date = datetime.date.today()\n",
    "print(\"todays date: \", todays_date)\n",
    "print(\"todays date year: \", todays_date.year)\n",
    "print(\"todays date month: \", todays_date.month)\n",
    "print(\"todays date day: \", todays_date.day)\n",
    "print(\"is weekday?\", todays_date.weekday()) # Mon:0 - Sun:6\n",
    "print(\"is iso weekday?\", todays_date.isoweekday()) # Mon:1 - Sun:7\n",
    "\n"
   ]
  },
  {
   "cell_type": "code",
   "execution_count": 3,
   "metadata": {},
   "outputs": [
    {
     "name": "stdout",
     "output_type": "stream",
     "text": [
      "todays date:  2019-09-10\n",
      "2019-09-17\n",
      "2019-09-03\n"
     ]
    }
   ],
   "source": [
    "# A timedelta object represents a duration, the difference between two dates or times.\n",
    "\n",
    "todays_date = datetime.date.today()\n",
    "time_delta = datetime.timedelta(days=7)\n",
    "\n",
    "print(\"todays date: \", todays_date)\n",
    "print(todays_date + time_delta)\n",
    "print(todays_date - time_delta)"
   ]
  },
  {
   "cell_type": "code",
   "execution_count": 4,
   "metadata": {},
   "outputs": [
    {
     "name": "stdout",
     "output_type": "stream",
     "text": [
      "198 days, 0:00:00\n",
      "198\n",
      "17107200.0\n",
      "['__abs__', '__add__', '__bool__', '__class__', '__delattr__', '__dir__', '__divmod__', '__doc__', '__eq__', '__floordiv__', '__format__', '__ge__', '__getattribute__', '__gt__', '__hash__', '__init__', '__init_subclass__', '__le__', '__lt__', '__mod__', '__mul__', '__ne__', '__neg__', '__new__', '__pos__', '__radd__', '__rdivmod__', '__reduce__', '__reduce_ex__', '__repr__', '__rfloordiv__', '__rmod__', '__rmul__', '__rsub__', '__rtruediv__', '__setattr__', '__sizeof__', '__str__', '__sub__', '__subclasshook__', '__truediv__', 'days', 'max', 'microseconds', 'min', 'resolution', 'seconds', 'total_seconds']\n"
     ]
    }
   ],
   "source": [
    "bday = datetime.date(2020, 3, 26)\n",
    "tdate = datetime.date.today()\n",
    "\n",
    "timedelta = bday - tdate\n",
    "print(timedelta)\n",
    "print(timedelta.days)\n",
    "print(timedelta.total_seconds())\n",
    "print(dir(timedelta))"
   ]
  },
  {
   "cell_type": "code",
   "execution_count": 5,
   "metadata": {},
   "outputs": [
    {
     "name": "stdout",
     "output_type": "stream",
     "text": [
      "09:11:54.100000\n",
      "['__class__', '__delattr__', '__dir__', '__doc__', '__eq__', '__format__', '__ge__', '__getattribute__', '__gt__', '__hash__', '__init__', '__init_subclass__', '__le__', '__lt__', '__ne__', '__new__', '__reduce__', '__reduce_ex__', '__repr__', '__setattr__', '__sizeof__', '__str__', '__subclasshook__', 'dst', 'fold', 'fromisoformat', 'hour', 'isoformat', 'max', 'microsecond', 'min', 'minute', 'replace', 'resolution', 'second', 'strftime', 'tzinfo', 'tzname', 'utcoffset']\n",
      "9\n",
      "11\n",
      "54\n"
     ]
    }
   ],
   "source": [
    "# Working with datetime.time\n",
    "\n",
    "t = datetime.time(9, 11, 54, 100000)\n",
    "print(t)\n",
    "print(dir(t))\n",
    "print(t.hour)\n",
    "print(t.minute)\n",
    "print(t.second)"
   ]
  },
  {
   "cell_type": "code",
   "execution_count": 6,
   "metadata": {},
   "outputs": [
    {
     "name": "stdout",
     "output_type": "stream",
     "text": [
      "2019-12-21 12:45:59.100000\n",
      "2019-12-21\n",
      "12:45:59.100000\n",
      "2019\n",
      "2019-12-28 12:45:59.100000\n"
     ]
    }
   ],
   "source": [
    "# Working with datetime.datetime\n",
    "\n",
    "dt = datetime.datetime(2019, 12, 21, 12, 45, 59, 100000)\n",
    "print(dt)\n",
    "print(dt.date())\n",
    "print(dt.time())\n",
    "print(dt.year)\n",
    "\n",
    "timedelta_datetime = datetime.timedelta(days=7) # similarly hour, minutes and other things can be setup here\n",
    "print(dt + timedelta_datetime)"
   ]
  },
  {
   "cell_type": "code",
   "execution_count": 7,
   "metadata": {},
   "outputs": [
    {
     "name": "stdout",
     "output_type": "stream",
     "text": [
      "dt_today:  2019-09-10 15:38:53.983160\n",
      "dt_now:  2019-09-10 15:38:53.983208\n",
      "dt_utcnow:  2019-09-10 10:08:53.983240\n"
     ]
    }
   ],
   "source": [
    "dt_today = datetime.datetime.today() # returns a current local datetime with a timezone of none\n",
    "dt_now = datetime.datetime.now() # it gives an option to pass the timezone, if left empty .today and .now are similar\n",
    "dt_utcnow = datetime.datetime.utcnow()\n",
    "print(\"dt_today: \", dt_today) \n",
    "print(\"dt_now: \", dt_now)\n",
    "print(\"dt_utcnow: \", dt_utcnow)"
   ]
  },
  {
   "cell_type": "code",
   "execution_count": 19,
   "metadata": {},
   "outputs": [
    {
     "name": "stdout",
     "output_type": "stream",
     "text": [
      "2019-09-10 15:42:00+00:00\n",
      "datetime_utc_now:  2019-09-10 10:24:19.383753+00:00\n",
      "indian_time:  2019-09-10 15:52:42.928174+05:30\n"
     ]
    }
   ],
   "source": [
    "dt = datetime.datetime(2019, 9, 10, 15, 42, tzinfo=pytz.UTC)\n",
    "print(dt)\n",
    "# 2019-09-10 15:42:00+00:00\n",
    "#                   ^\n",
    "#               UTC offset"
   ]
  },
  {
   "cell_type": "code",
   "execution_count": null,
   "metadata": {},
   "outputs": [],
   "source": [
    "# taking a timezone aware UTC datetime and converting it to Indian time (or any other time)\n",
    "\n",
    "datetime_utc_now = datetime.datetime.now(tz=pytz.UTC)\n",
    "print(\"datetime_utc_now: \", datetime_utc_now)\n",
    "\n",
    "indian_time = datetime_utc_now.astimezone(pytz.timezone('Asia/Kolkata'))\n",
    "print(\"indian_time: \", mountain_time)"
   ]
  },
  {
   "cell_type": "code",
   "execution_count": 26,
   "metadata": {},
   "outputs": [
    {
     "name": "stdout",
     "output_type": "stream",
     "text": [
      "2019-09-10 16:10:16.345133\n",
      "2019-09-10 16:10:16.345133+05:30\n"
     ]
    }
   ],
   "source": [
    "# making a naive datetime timezone aware\n",
    "local_dt = datetime.datetime.now()\n",
    "\n",
    "print(local_dt) # 2019-09-10 16:02:17.359100 <- not timezone aware\n",
    "\n",
    "\n",
    "#  and we cannot use this naive timezone to convert into another timezone\n",
    "# like we did previously with astimezone method.\n",
    "# So we need to convert naive localtime to timezone aware datatime using timezone localized function\n",
    "\n",
    "# First grab the destination \n",
    "indian_tz = pytz.timezone('Asia/Kolkata')\n",
    "\n",
    "# Localize local datetime\n",
    "local_dt = indian_tz.localize(local_dt)\n",
    "print(local_dt) # 2019-09-10 16:10:16.345133+05:30 <- Now it is timezone aware\n"
   ]
  },
  {
   "cell_type": "code",
   "execution_count": 23,
   "metadata": {},
   "outputs": [],
   "source": [
    "# to get all pytz timezones\n",
    "# for timezone in pytz.all_timezones:\n",
    "#     print(timezone)"
   ]
  },
  {
   "cell_type": "code",
   "execution_count": 34,
   "metadata": {},
   "outputs": [
    {
     "name": "stdout",
     "output_type": "stream",
     "text": [
      "2019-09-10 16:17:58.261496+05:30\n",
      "2019-09-10T16:17:58.261496+05:30\n",
      "September 10, 2019\n"
     ]
    }
   ],
   "source": [
    "datetime_now_local = datetime.datetime.now(tz=pytz.timezone('Asia/Kolkata'))\n",
    "\n",
    "print(datetime_now_local)\n",
    "print(datetime_now_local.isoformat())\n",
    "print(datetime_now_local.strftime('%B %d, %Y')) \n"
   ]
  },
  {
   "cell_type": "code",
   "execution_count": 36,
   "metadata": {},
   "outputs": [
    {
     "name": "stdout",
     "output_type": "stream",
     "text": [
      "2019-09-10 00:00:00\n"
     ]
    }
   ],
   "source": [
    "# Convert datetime string to datetime custom format\n",
    "datetime_str = \"September 10, 2019\"\n",
    "\n",
    "print(datetime.datetime.strptime(datetime_str,'%B %d, %Y'))\n"
   ]
  },
  {
   "cell_type": "code",
   "execution_count": 37,
   "metadata": {},
   "outputs": [],
   "source": [
    "# strftime -> Converts datetime to string\n",
    "# strptime -> Converts string to datetime"
   ]
  },
  {
   "cell_type": "markdown",
   "metadata": {},
   "source": [
    "### Working with File Objects"
   ]
  },
  {
   "cell_type": "code",
   "execution_count": 53,
   "metadata": {},
   "outputs": [
    {
     "name": "stdout",
     "output_type": "stream",
     "text": [
      "/Users/shekhar/Desktop/test.txt\n"
     ]
    }
   ],
   "source": [
    "# The not recommended way of working with files\n",
    "\n",
    "f = open('/Users/shekhar/Desktop/test.txt', 'r')\n",
    "\n",
    "print(f.name)\n",
    "f.close() # need to manually close a file"
   ]
  },
  {
   "cell_type": "code",
   "execution_count": 54,
   "metadata": {},
   "outputs": [
    {
     "name": "stdout",
     "output_type": "stream",
     "text": [
      "1) Line one\n",
      "2) Line two\n",
      "3) Line three\n",
      "4) Line four\n",
      "5) Line five\n",
      "6) Line six\n",
      "7) Line seven\n",
      "\n",
      "\n"
     ]
    }
   ],
   "source": [
    "# open a file using a context manager\n",
    "with open('/Users/shekhar/Desktop/test.txt', 'r') as f:\n",
    "    f_contents = f.read()\n",
    "    print(f_contents)\n",
    "    \n",
    "# f.read() reads the content of the file as such, it is suitable for small files, f.read(100) will read 100 chars of the file\n",
    "# f.readlines() gets all the lines of the file in a list\n",
    "# f.readline() get a single line and prints others lines on each such execution\n"
   ]
  },
  {
   "cell_type": "code",
   "execution_count": 55,
   "metadata": {},
   "outputs": [
    {
     "name": "stdout",
     "output_type": "stream",
     "text": [
      "1) Line one\n",
      "2) #Line two\n",
      "3) Lin#e three\n",
      "4) Line# four\n",
      "5) Line f#ive\n",
      "6) Line six#\n",
      "7) Line seven\n",
      "#\n",
      "#"
     ]
    }
   ],
   "source": [
    "with open('/Users/shekhar/Desktop/test.txt', 'r') as f:\n",
    "    file_size_to_read = 15\n",
    "    f_content = f.read(file_size_to_read)\n",
    "    \n",
    "    while len(f_content) > 0:\n",
    "        print(f_content, end='#')\n",
    "        f_content = f.read(file_size_to_read)"
   ]
  },
  {
   "cell_type": "code",
   "execution_count": 52,
   "metadata": {},
   "outputs": [
    {
     "name": "stdout",
     "output_type": "stream",
     "text": [
      "1) Line on\n",
      "10\n",
      "0\n",
      "1) Line on\n"
     ]
    }
   ],
   "source": [
    "# The seek method\n",
    "with open('/Users/shekhar/Desktop/test.txt', 'r') as f:\n",
    "    file_size_to_read = 10\n",
    "    f_content = f.read(file_size_to_read)\n",
    "    print(f_content)\n",
    "    \n",
    "    print(f.tell())\n",
    "    f.seek(0) # take the character being read to the start of the file\n",
    "    print(f.tell())\n",
    "\n",
    "    f_content = f.read(file_size_to_read)\n",
    "    print(f_content)\n",
    "    "
   ]
  },
  {
   "cell_type": "code",
   "execution_count": 60,
   "metadata": {},
   "outputs": [
    {
     "name": "stdout",
     "output_type": "stream",
     "text": [
      "TestTest\n"
     ]
    }
   ],
   "source": [
    "# Writing to a new file\n",
    "\n",
    "with open('Test.txt', 'w') as fw:\n",
    "    fw.write('Test')\n",
    "    fw.write('Test')\n",
    "\n",
    "    \n",
    "with open('Test.txt', 'r') as f:\n",
    "    print(f.read())"
   ]
  },
  {
   "cell_type": "code",
   "execution_count": 64,
   "metadata": {},
   "outputs": [
    {
     "name": "stdout",
     "output_type": "stream",
     "text": [
      "TestTest\n"
     ]
    }
   ],
   "source": [
    "# copy to a file\n",
    "with open('Test.txt', 'r') as rf:\n",
    "    with open('Test-copy.txt', 'w') as wf:\n",
    "        for line in rf:\n",
    "            wf.write(line)\n",
    "            \n",
    "with open('Test-copy.txt', 'r') as f:\n",
    "    print(f.read())\n",
    "    \n",
    "# To copy files which are not text like images, just add 'b' to the file mode and the above example will work"
   ]
  },
  {
   "cell_type": "markdown",
   "metadata": {},
   "source": [
    "### List slicing"
   ]
  },
  {
   "cell_type": "code",
   "execution_count": 163,
   "metadata": {},
   "outputs": [
    {
     "name": "stdout",
     "output_type": "stream",
     "text": [
      "[9, 8, 7, 6, 5, 4, 3, 2, 1, 0]\n",
      "http://coreyms.com\n",
      "coreyms\n"
     ]
    }
   ],
   "source": [
    "my_list = [0, 1, 2, 3, 4, 5, 6, 7, 8, 9]\n",
    "#          0, 1, 2, 3, 4, 5, 6, 7, 8, 9\n",
    "#        -10,-9,-8,-7,-6,-5,-4,-3,-2,-1\n",
    "\n",
    "# list[start:end:step]\n",
    "\n",
    "print(my_list[::-1])\n",
    "\n",
    "\n",
    "sample_url = 'http://coreyms.com'\n",
    "print(sample_url)\n",
    "\n",
    "# Reverse the url\n",
    "# print sample_url[::-1]\n",
    "\n",
    "# # Get the top level domain\n",
    "# print sample_url[-4:]\n",
    "\n",
    "# # Print the url without the http://\n",
    "# print sample_url[7:]\n",
    "\n",
    "# # Print the url without the http:// or the top level domain\n",
    "print(sample_url[7:-4])"
   ]
  },
  {
   "cell_type": "markdown",
   "metadata": {},
   "source": [
    "### List comprehension"
   ]
  },
  {
   "cell_type": "code",
   "execution_count": 180,
   "metadata": {},
   "outputs": [
    {
     "name": "stdout",
     "output_type": "stream",
     "text": [
      "[1, 2, 3, 4, 5, 6, 7, 8, 9]\n",
      "[1, 4, 9, 16, 25, 36, 49, 64, 81]\n",
      "[2, 4, 6, 8]\n",
      "[2, 4, 6, 8]\n",
      "[('a', 0), ('a', 1), ('a', 2), ('a', 3), ('b', 0), ('b', 1), ('b', 2), ('b', 3), ('c', 0), ('c', 1), ('c', 2), ('c', 3), ('d', 0), ('d', 1), ('d', 2), ('d', 3)]\n"
     ]
    }
   ],
   "source": [
    "nums = [1,2,3,4,5,6,7,8,9]\n",
    "\n",
    "my_nums = [n for n in nums]\n",
    "print(my_nums)\n",
    "\n",
    "my_nums_1 = [n*n for n in nums]\n",
    "print(my_nums_1)\n",
    "\n",
    "filter_nums = [n for n in nums if n%2 ==0]\n",
    "print(filter_nums)\n",
    "\n",
    "lambda_filter = filter(lambda n: n%2 ==0, nums)\n",
    "print(list(lambda_filter))\n",
    "\n",
    "my_list = ['a', 'b', 'c', 'd']\n",
    "my_list_1 = [(letter,num) for letter in my_list for num in range(4)]\n",
    "print(my_list_1)"
   ]
  },
  {
   "cell_type": "markdown",
   "metadata": {},
   "source": [
    "### Dictionary and Set comprehension"
   ]
  },
  {
   "cell_type": "code",
   "execution_count": 188,
   "metadata": {},
   "outputs": [
    {
     "name": "stdout",
     "output_type": "stream",
     "text": [
      "[('Superman', 'Clark Kent'), ('Batman', 'Bruce Wayne'), ('Spider Man', 'Peter Parker')]\n",
      "{'Clark Kent': 'Superman', 'Bruce Wayne': 'Batman', 'Peter Parker': 'Spider Man'}\n",
      "{'Clark Kent': 'Superman', 'Bruce Wayne': 'Batman'}\n",
      "{1, 2, 3, 4, 5, 6, 7, 8, 9}\n"
     ]
    }
   ],
   "source": [
    "superheroes = [\"Superman\", \"Batman\", \"Spider Man\"]\n",
    "names = [\"Clark Kent\", \"Bruce Wayne\", \"Peter Parker\"]\n",
    "\n",
    "result = zip(superheroes, names)\n",
    "print(list(result))\n",
    "\n",
    "# If I want the result to a dictionary key value pair\n",
    "my_dict = {}\n",
    "\n",
    "for name, superhero in zip(names, superheroes):\n",
    "    my_dict[name] = superhero\n",
    "print(my_dict)\n",
    "\n",
    "# using comprehension\n",
    "my_dict_2 = {name:hero for name, hero in zip(names, superheroes) if name != 'Peter Parker'}\n",
    "print(my_dict_2)\n",
    "\n",
    "# Set comprehension\n",
    "my_num_list = [1,1,2,2,3,3,3,4,5,5,6,6,6,6,7,7,7,8,9,9]\n",
    "\n",
    "my_set = {n for n in my_num_list}\n",
    "print(my_set)\n"
   ]
  },
  {
   "cell_type": "code",
   "execution_count": 190,
   "metadata": {},
   "outputs": [
    {
     "name": "stdout",
     "output_type": "stream",
     "text": [
      "1\n",
      "4\n",
      "9\n",
      "16\n",
      "25\n",
      "36\n",
      "49\n",
      "64\n",
      "81\n",
      "1\n",
      "4\n",
      "9\n",
      "16\n",
      "25\n",
      "36\n",
      "49\n",
      "64\n",
      "81\n"
     ]
    }
   ],
   "source": [
    "# Generator expression\n",
    "\n",
    "my_num_list_1 = [1,2,3,4,5,6,7,8,9]\n",
    "\n",
    "def generator_func(nums):\n",
    "    for n in nums:\n",
    "        yield n*n\n",
    "        \n",
    "my_generator = generator_func(my_num_list_1)\n",
    "\n",
    "for i in my_generator:\n",
    "    print(i)\n",
    "    \n",
    "# Now using generator expression, use round braces to create a generator object\n",
    "\n",
    "my_gen = (n*n for n in my_num_list_1)\n",
    "\n",
    "for i in my_gen:\n",
    "    print(i)"
   ]
  },
  {
   "cell_type": "code",
   "execution_count": null,
   "metadata": {},
   "outputs": [],
   "source": []
  }
 ],
 "metadata": {
  "kernelspec": {
   "display_name": "Python 3",
   "language": "python",
   "name": "python3"
  },
  "language_info": {
   "codemirror_mode": {
    "name": "ipython",
    "version": 3
   },
   "file_extension": ".py",
   "mimetype": "text/x-python",
   "name": "python",
   "nbconvert_exporter": "python",
   "pygments_lexer": "ipython3",
   "version": "3.7.1"
  }
 },
 "nbformat": 4,
 "nbformat_minor": 2
}
